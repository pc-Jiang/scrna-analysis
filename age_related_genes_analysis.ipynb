{
 "cells": [
  {
   "cell_type": "code",
   "execution_count": 1,
   "metadata": {},
   "outputs": [
    {
     "name": "stderr",
     "output_type": "stream",
     "text": [
      "/opt/anaconda3/envs/rna/lib/python3.12/site-packages/tqdm/auto.py:21: TqdmWarning: IProgress not found. Please update jupyter and ipywidgets. See https://ipywidgets.readthedocs.io/en/stable/user_install.html\n",
      "  from .autonotebook import tqdm as notebook_tqdm\n"
     ]
    }
   ],
   "source": [
    "from pathlib import Path\n",
    "from abc_atlas_access.abc_atlas_cache.abc_project_cache import AbcProjectCache\n",
    "import pandas as pd\n",
    "import scanpy as sc\n",
    "import anndata as ad\n",
    "import numpy as np\n",
    "from tools import *"
   ]
  },
  {
   "cell_type": "markdown",
   "metadata": {},
   "source": [
    "Load the data. "
   ]
  },
  {
   "cell_type": "code",
   "execution_count": 2,
   "metadata": {},
   "outputs": [],
   "source": [
    "download_base = Path('./data/abc_atlas')\n",
    "abc_cache = AbcProjectCache.from_cache_dir(download_base)\n",
    "\n",
    "path  = abc_cache.get_data_path(directory='Zeng-Aging-Mouse-10Xv3', file_name='Zeng-Aging-Mouse-10Xv3/log2')\n",
    "adata = sc.read_h5ad(path)"
   ]
  },
  {
   "cell_type": "markdown",
   "metadata": {},
   "source": [
    "Load the metadata. "
   ]
  },
  {
   "cell_type": "code",
   "execution_count": 3,
   "metadata": {},
   "outputs": [],
   "source": [
    "# load metadata\n",
    "cell = abc_cache.get_metadata_dataframe(\n",
    "    directory='Zeng-Aging-Mouse-10Xv3',\n",
    "    file_name='cell_metadata',\n",
    "    dtype={'cell_label': str,\n",
    "           'wmb_cluster_alias': 'Int64'}\n",
    ")\n",
    "cell.set_index('cell_label', inplace=True)"
   ]
  },
  {
   "cell_type": "code",
   "execution_count": 4,
   "metadata": {},
   "outputs": [],
   "source": [
    "# load metadata\n",
    "cluster_info = abc_cache.get_metadata_dataframe(\n",
    "    directory='Zeng-Aging-Mouse-10Xv3',\n",
    "    file_name='cluster'\n",
    ").set_index('cluster_alias')\n",
    "# Join the cluster information in by joining on the Aging dataset's cluster_alias column.\n",
    "cell_extended = cell.join(cluster_info, on='cluster_alias', rsuffix='_cl_info')\n",
    "cell_cluster_mapping = abc_cache.get_metadata_dataframe(\n",
    "    directory='Zeng-Aging-Mouse-WMB-taxonomy',\n",
    "    file_name='cell_cluster_mapping_annotations'\n",
    ").set_index('cell_label')\n",
    "cell_extended = cell_extended.join(cell_cluster_mapping, rsuffix='_cl_map')\n",
    "# Quick run through to drop duplicated columns\n",
    "drop_cols = []\n",
    "for col in cell_extended.columns:\n",
    "    if col.endswith(('_cl_map', '_cl_colors', '_cl_info')):\n",
    "        drop_cols.append(col)\n",
    "cell_extended.drop(columns=drop_cols, inplace=True)"
   ]
  },
  {
   "cell_type": "markdown",
   "metadata": {},
   "source": [
    "Load the age-DE genes. "
   ]
  },
  {
   "cell_type": "code",
   "execution_count": 5,
   "metadata": {},
   "outputs": [],
   "source": [
    "# load all degenes\n",
    "degenes = abc_cache.get_metadata_dataframe(\n",
    "    directory='Zeng-Aging-Mouse-WMB-taxonomy',\n",
    "    file_name='aging_degenes'\n",
    ")"
   ]
  },
  {
   "cell_type": "code",
   "execution_count": 6,
   "metadata": {},
   "outputs": [],
   "source": [
    "# get the subclass names\n",
    "subclass_names = cell_extended['subclass_name'].unique()"
   ]
  },
  {
   "cell_type": "markdown",
   "metadata": {},
   "source": [
    "Define the subclass we want to analysis. "
   ]
  },
  {
   "cell_type": "code",
   "execution_count": 7,
   "metadata": {},
   "outputs": [],
   "source": [
    "# target subclasses with different number of degene counts\n",
    "age_DE_high_subclass = ['L4 RSP-ACA Glut', 'TU-ARH Otp Six6 Gaba', 'PVH-SO-PVa Otp Glut', 'PRP-NI-PRNc-GRN Otp Glut']\n",
    "age_DE_medium_subclass = ['STR D1 Gaba', 'DG Glut', 'OB-STR-CTX Inh IMN', 'DMH-LHA Gsx1 Gaba', 'PG-TRN-LRN Fat2 Glut']\n",
    "age_DE_low_subclass = ['Vip Gaba', 'MPO-ADP Lhx8 Gaba', 'PH-an Pitx2 Glut', 'ND-INC Foxd2 Glut', 'NTS Dbh Glut']\n",
    "\n",
    "aged_high = name_with_index(age_DE_high_subclass, subclass_names)\n",
    "aged_medium = name_with_index(age_DE_medium_subclass, subclass_names)\n",
    "aged_low = name_with_index(age_DE_low_subclass, subclass_names)"
   ]
  },
  {
   "cell_type": "markdown",
   "metadata": {},
   "source": [
    "Define regression method. "
   ]
  },
  {
   "cell_type": "code",
   "execution_count": 8,
   "metadata": {},
   "outputs": [],
   "source": [
    "# define regression functions\n",
    "from sklearn.linear_model import LogisticRegression\n",
    "from sklearn.preprocessing import StandardScaler\n",
    "from sklearn.model_selection import train_test_split\n",
    "from sklearn.metrics import accuracy_score\n",
    "import statsmodels.api as sm\n",
    "\n",
    "\n",
    "def select_important_feature_logistic(X, y, C=1e-3):\n",
    "\n",
    "    X_with_intercept = sm.add_constant(X)\n",
    "    lasso_logreg = LogisticRegression(penalty='l1', solver='liblinear', C=C)\n",
    "\n",
    "    lasso_logreg.fit(X_with_intercept, y)\n",
    "\n",
    "    important_features = np.where(lasso_logreg.coef_[0] != 0)[0]\n",
    "\n",
    "    y_pred = lasso_logreg.predict(X_with_intercept)\n",
    "    acc = accuracy_score(y, y_pred)\n",
    "\n",
    "    return lasso_logreg, important_features, acc\n",
    "\n",
    "\n",
    "def lasso_logistic_on_svd(adata, \n",
    "                      metadata,\n",
    "                      regression_terms=['donor_age_category_order'],\n",
    "                      C=1e-3): \n",
    "    \n",
    "    adata = assign_binary_regression_labels(adata, metadata, regression_terms)\n",
    "    X = adata.obsm['X_pca']\n",
    "    X_with_intercept = sm.add_constant(X)\n",
    "    y = adata.obs['regression_labels']\n",
    "\n",
    "    lasso_logreg, important_features, acc = select_important_feature_logistic(X_with_intercept, y, C=C)\n",
    "    return adata, lasso_logreg, important_features, acc"
   ]
  },
  {
   "cell_type": "code",
   "execution_count": 9,
   "metadata": {},
   "outputs": [],
   "source": [
    "def logistic_regression(adata, \n",
    "                      metadata,\n",
    "                      regression_terms=['donor_age_category_order'],\n",
    "                      alpha=0.01):\n",
    "    adata = assign_binary_regression_labels(adata, metadata, regression_terms)\n",
    "    X = adata.obsm['X_pca']\n",
    "    X_with_intercept = sm.add_constant(X)\n",
    "    y = adata.obs['regression_labels']\n",
    "\n",
    "    logit_model = sm.Logit(y, X_with_intercept)\n",
    "    result = logit_model.fit(method='cg')\n",
    "\n",
    "    y_pred = result.predict(X_with_intercept) > 0.5\n",
    "    acc = accuracy_score(y, y_pred)\n",
    "\n",
    "    pvals = result.pvalues\n",
    "    n_feature = X_with_intercept.shape[1]\n",
    "    important_features = np.where(pvals < alpha/n_feature)[0]\n",
    "\n",
    "    return adata, result, important_features, acc\n"
   ]
  },
  {
   "cell_type": "markdown",
   "metadata": {},
   "source": [
    "Analyze data from L4 RSP-ACA Glut subclass. "
   ]
  },
  {
   "cell_type": "code",
   "execution_count": 10,
   "metadata": {},
   "outputs": [
    {
     "name": "stderr",
     "output_type": "stream",
     "text": [
      "/opt/anaconda3/envs/rna/lib/python3.12/site-packages/scanpy/preprocessing/_pca.py:314: ImplicitModificationWarning: Setting element `.obsm['X_pca']` of view, initializing view as actual.\n",
      "  adata.obsm[key_obsm] = X_pca\n"
     ]
    }
   ],
   "source": [
    "# detect degenes by subclass\n",
    "\n",
    "subclass_name = aged_high[0]\n",
    "degenes_subclass = degenes[degenes['grouping_name'] == subclass_name]\n",
    "subclass_adata, subclass_cells = filter_cells_by_anaotation(adata, cell_extended, 'subclass_name', subclass_name)\n",
    "subclass_adata = filter_genes_by_expression(subclass_adata)\n",
    "sc.tl.pca(subclass_adata, n_comps=50)"
   ]
  },
  {
   "cell_type": "code",
   "execution_count": 11,
   "metadata": {},
   "outputs": [
    {
     "data": {
      "text/plain": [
       "AnnData object with n_obs × n_vars = 1725 × 12494\n",
       "    obs: 'cell_barcode', 'library_label', 'anatomical_division_label', 'alignment_job_id'\n",
       "    var: 'gene_symbol'\n",
       "    uns: 'pca'\n",
       "    obsm: 'X_pca'\n",
       "    varm: 'PCs'"
      ]
     },
     "execution_count": 11,
     "metadata": {},
     "output_type": "execute_result"
    }
   ],
   "source": [
    "subclass_adata"
   ]
  },
  {
   "cell_type": "markdown",
   "metadata": {},
   "source": [
    "Logistic regression without LASSO. "
   ]
  },
  {
   "cell_type": "code",
   "execution_count": 12,
   "metadata": {},
   "outputs": [
    {
     "name": "stdout",
     "output_type": "stream",
     "text": [
      "         Current function value: 0.000492\n",
      "         Iterations: 35\n",
      "         Function evaluations: 55\n",
      "         Gradient evaluations: 55\n",
      "Classification accuracy for 021 L4 RSP-ACA Glut: 1.0\n"
     ]
    },
    {
     "name": "stderr",
     "output_type": "stream",
     "text": [
      "/opt/anaconda3/envs/rna/lib/python3.12/site-packages/scipy/optimize/_optimize.py:1680: OptimizeWarning: Maximum number of iterations has been exceeded.\n",
      "  res = _minimize_cg(f, x0, args, fprime, callback=callback, c1=c1, c2=c2,\n",
      "/opt/anaconda3/envs/rna/lib/python3.12/site-packages/statsmodels/base/model.py:607: ConvergenceWarning: Maximum Likelihood optimization failed to converge. Check mle_retvals\n",
      "  warnings.warn(\"Maximum Likelihood optimization failed to \"\n"
     ]
    }
   ],
   "source": [
    "_, logit, important_features_logit, acc_logit = logistic_regression(\n",
    "                        subclass_adata, subclass_cells, regression_terms=['donor_age_category'], alpha=0.10)\n",
    "print(f\"Classification accuracy for {subclass_name}: {acc_logit}\")\n"
   ]
  },
  {
   "cell_type": "code",
   "execution_count": 13,
   "metadata": {},
   "outputs": [
    {
     "data": {
      "text/plain": [
       "regression_labels\n",
       "0.0    938\n",
       "1.0    787\n",
       "Name: count, dtype: int64"
      ]
     },
     "execution_count": 13,
     "metadata": {},
     "output_type": "execute_result"
    }
   ],
   "source": [
    "subclass_adata.obs['regression_labels'].value_counts()"
   ]
  },
  {
   "cell_type": "code",
   "execution_count": 14,
   "metadata": {},
   "outputs": [
    {
     "data": {
      "text/html": [
       "<table class=\"simpletable\">\n",
       "<caption>Logit Regression Results</caption>\n",
       "<tr>\n",
       "  <th>Dep. Variable:</th>   <td>regression_labels</td> <th>  No. Observations:  </th>  <td>  1725</td> \n",
       "</tr>\n",
       "<tr>\n",
       "  <th>Model:</th>                 <td>Logit</td>       <th>  Df Residuals:      </th>  <td>  1674</td> \n",
       "</tr>\n",
       "<tr>\n",
       "  <th>Method:</th>                 <td>MLE</td>        <th>  Df Model:          </th>  <td>    50</td> \n",
       "</tr>\n",
       "<tr>\n",
       "  <th>Date:</th>            <td>Thu, 13 Mar 2025</td>  <th>  Pseudo R-squ.:     </th>  <td>0.9993</td> \n",
       "</tr>\n",
       "<tr>\n",
       "  <th>Time:</th>                <td>17:10:47</td>      <th>  Log-Likelihood:    </th> <td>-0.84817</td>\n",
       "</tr>\n",
       "<tr>\n",
       "  <th>converged:</th>             <td>False</td>       <th>  LL-Null:           </th> <td> -1189.1</td>\n",
       "</tr>\n",
       "<tr>\n",
       "  <th>Covariance Type:</th>     <td>nonrobust</td>     <th>  LLR p-value:       </th>  <td> 0.000</td> \n",
       "</tr>\n",
       "</table>\n",
       "<table class=\"simpletable\">\n",
       "<tr>\n",
       "    <td></td>       <th>coef</th>     <th>std err</th>      <th>z</th>      <th>P>|z|</th>  <th>[0.025</th>    <th>0.975]</th>  \n",
       "</tr>\n",
       "<tr>\n",
       "  <th>const</th> <td>   -0.0673</td> <td>    3.665</td> <td>   -0.018</td> <td> 0.985</td> <td>   -7.250</td> <td>    7.116</td>\n",
       "</tr>\n",
       "<tr>\n",
       "  <th>x1</th>    <td>   -0.1490</td> <td>    0.089</td> <td>   -1.667</td> <td> 0.095</td> <td>   -0.324</td> <td>    0.026</td>\n",
       "</tr>\n",
       "<tr>\n",
       "  <th>x2</th>    <td>   -0.2266</td> <td>    0.135</td> <td>   -1.683</td> <td> 0.092</td> <td>   -0.491</td> <td>    0.037</td>\n",
       "</tr>\n",
       "<tr>\n",
       "  <th>x3</th>    <td>    0.5616</td> <td>    0.248</td> <td>    2.261</td> <td> 0.024</td> <td>    0.075</td> <td>    1.048</td>\n",
       "</tr>\n",
       "<tr>\n",
       "  <th>x4</th>    <td>    0.3363</td> <td>    0.169</td> <td>    1.995</td> <td> 0.046</td> <td>    0.006</td> <td>    0.667</td>\n",
       "</tr>\n",
       "<tr>\n",
       "  <th>x5</th>    <td>    0.6762</td> <td>    0.314</td> <td>    2.152</td> <td> 0.031</td> <td>    0.060</td> <td>    1.292</td>\n",
       "</tr>\n",
       "<tr>\n",
       "  <th>x6</th>    <td>   -0.0503</td> <td>    0.215</td> <td>   -0.234</td> <td> 0.815</td> <td>   -0.471</td> <td>    0.370</td>\n",
       "</tr>\n",
       "<tr>\n",
       "  <th>x7</th>    <td>   -0.2339</td> <td>    0.215</td> <td>   -1.088</td> <td> 0.277</td> <td>   -0.655</td> <td>    0.188</td>\n",
       "</tr>\n",
       "<tr>\n",
       "  <th>x8</th>    <td>    0.0383</td> <td>    0.184</td> <td>    0.209</td> <td> 0.835</td> <td>   -0.322</td> <td>    0.399</td>\n",
       "</tr>\n",
       "<tr>\n",
       "  <th>x9</th>    <td>    0.0412</td> <td>    0.213</td> <td>    0.194</td> <td> 0.846</td> <td>   -0.375</td> <td>    0.458</td>\n",
       "</tr>\n",
       "<tr>\n",
       "  <th>x10</th>   <td>    0.2318</td> <td>    0.221</td> <td>    1.051</td> <td> 0.293</td> <td>   -0.201</td> <td>    0.664</td>\n",
       "</tr>\n",
       "<tr>\n",
       "  <th>x11</th>   <td>   -0.0769</td> <td>    0.411</td> <td>   -0.187</td> <td> 0.852</td> <td>   -0.883</td> <td>    0.729</td>\n",
       "</tr>\n",
       "<tr>\n",
       "  <th>x12</th>   <td>    0.0261</td> <td>    0.266</td> <td>    0.098</td> <td> 0.922</td> <td>   -0.494</td> <td>    0.547</td>\n",
       "</tr>\n",
       "<tr>\n",
       "  <th>x13</th>   <td>    0.0515</td> <td>    0.342</td> <td>    0.151</td> <td> 0.880</td> <td>   -0.619</td> <td>    0.722</td>\n",
       "</tr>\n",
       "<tr>\n",
       "  <th>x14</th>   <td>    0.3373</td> <td>    0.367</td> <td>    0.920</td> <td> 0.358</td> <td>   -0.381</td> <td>    1.056</td>\n",
       "</tr>\n",
       "<tr>\n",
       "  <th>x15</th>   <td>   -0.2184</td> <td>    0.321</td> <td>   -0.680</td> <td> 0.497</td> <td>   -0.848</td> <td>    0.412</td>\n",
       "</tr>\n",
       "<tr>\n",
       "  <th>x16</th>   <td>   -0.0244</td> <td>    0.339</td> <td>   -0.072</td> <td> 0.943</td> <td>   -0.689</td> <td>    0.640</td>\n",
       "</tr>\n",
       "<tr>\n",
       "  <th>x17</th>   <td>    0.0652</td> <td>    0.341</td> <td>    0.191</td> <td> 0.849</td> <td>   -0.604</td> <td>    0.734</td>\n",
       "</tr>\n",
       "<tr>\n",
       "  <th>x18</th>   <td>   -0.0291</td> <td>    0.274</td> <td>   -0.106</td> <td> 0.916</td> <td>   -0.567</td> <td>    0.509</td>\n",
       "</tr>\n",
       "<tr>\n",
       "  <th>x19</th>   <td>    0.0340</td> <td>    0.387</td> <td>    0.088</td> <td> 0.930</td> <td>   -0.724</td> <td>    0.792</td>\n",
       "</tr>\n",
       "<tr>\n",
       "  <th>x20</th>   <td>    0.0709</td> <td>    0.500</td> <td>    0.142</td> <td> 0.887</td> <td>   -0.908</td> <td>    1.050</td>\n",
       "</tr>\n",
       "<tr>\n",
       "  <th>x21</th>   <td>   -0.0603</td> <td>    0.395</td> <td>   -0.153</td> <td> 0.879</td> <td>   -0.834</td> <td>    0.714</td>\n",
       "</tr>\n",
       "<tr>\n",
       "  <th>x22</th>   <td>    0.0311</td> <td>    0.389</td> <td>    0.080</td> <td> 0.936</td> <td>   -0.732</td> <td>    0.794</td>\n",
       "</tr>\n",
       "<tr>\n",
       "  <th>x23</th>   <td>    0.0064</td> <td>    0.400</td> <td>    0.016</td> <td> 0.987</td> <td>   -0.777</td> <td>    0.790</td>\n",
       "</tr>\n",
       "<tr>\n",
       "  <th>x24</th>   <td>    0.1726</td> <td>    0.506</td> <td>    0.341</td> <td> 0.733</td> <td>   -0.819</td> <td>    1.164</td>\n",
       "</tr>\n",
       "<tr>\n",
       "  <th>x25</th>   <td>    0.0195</td> <td>    0.351</td> <td>    0.055</td> <td> 0.956</td> <td>   -0.668</td> <td>    0.707</td>\n",
       "</tr>\n",
       "<tr>\n",
       "  <th>x26</th>   <td>    0.0183</td> <td>    0.400</td> <td>    0.046</td> <td> 0.963</td> <td>   -0.766</td> <td>    0.802</td>\n",
       "</tr>\n",
       "<tr>\n",
       "  <th>x27</th>   <td>   -0.1903</td> <td>    0.395</td> <td>   -0.482</td> <td> 0.630</td> <td>   -0.965</td> <td>    0.584</td>\n",
       "</tr>\n",
       "<tr>\n",
       "  <th>x28</th>   <td>    0.0722</td> <td>    0.518</td> <td>    0.139</td> <td> 0.889</td> <td>   -0.943</td> <td>    1.088</td>\n",
       "</tr>\n",
       "<tr>\n",
       "  <th>x29</th>   <td>    0.0334</td> <td>    0.395</td> <td>    0.084</td> <td> 0.933</td> <td>   -0.742</td> <td>    0.808</td>\n",
       "</tr>\n",
       "<tr>\n",
       "  <th>x30</th>   <td>   -0.0857</td> <td>    0.429</td> <td>   -0.200</td> <td> 0.842</td> <td>   -0.926</td> <td>    0.755</td>\n",
       "</tr>\n",
       "<tr>\n",
       "  <th>x31</th>   <td>   -0.1420</td> <td>    0.367</td> <td>   -0.387</td> <td> 0.699</td> <td>   -0.862</td> <td>    0.578</td>\n",
       "</tr>\n",
       "<tr>\n",
       "  <th>x32</th>   <td>   -0.0026</td> <td>    0.350</td> <td>   -0.007</td> <td> 0.994</td> <td>   -0.689</td> <td>    0.684</td>\n",
       "</tr>\n",
       "<tr>\n",
       "  <th>x33</th>   <td>    0.0774</td> <td>    0.442</td> <td>    0.175</td> <td> 0.861</td> <td>   -0.790</td> <td>    0.945</td>\n",
       "</tr>\n",
       "<tr>\n",
       "  <th>x34</th>   <td>   -0.0271</td> <td>    0.471</td> <td>   -0.058</td> <td> 0.954</td> <td>   -0.951</td> <td>    0.896</td>\n",
       "</tr>\n",
       "<tr>\n",
       "  <th>x35</th>   <td>    0.1293</td> <td>    0.325</td> <td>    0.397</td> <td> 0.691</td> <td>   -0.508</td> <td>    0.767</td>\n",
       "</tr>\n",
       "<tr>\n",
       "  <th>x36</th>   <td>    0.0689</td> <td>    0.341</td> <td>    0.202</td> <td> 0.840</td> <td>   -0.599</td> <td>    0.737</td>\n",
       "</tr>\n",
       "<tr>\n",
       "  <th>x37</th>   <td>    0.0518</td> <td>    0.328</td> <td>    0.158</td> <td> 0.874</td> <td>   -0.590</td> <td>    0.694</td>\n",
       "</tr>\n",
       "<tr>\n",
       "  <th>x38</th>   <td>    0.0517</td> <td>    0.445</td> <td>    0.116</td> <td> 0.908</td> <td>   -0.820</td> <td>    0.924</td>\n",
       "</tr>\n",
       "<tr>\n",
       "  <th>x39</th>   <td>    0.2111</td> <td>    0.303</td> <td>    0.696</td> <td> 0.487</td> <td>   -0.384</td> <td>    0.806</td>\n",
       "</tr>\n",
       "<tr>\n",
       "  <th>x40</th>   <td>   -0.0204</td> <td>    0.371</td> <td>   -0.055</td> <td> 0.956</td> <td>   -0.747</td> <td>    0.706</td>\n",
       "</tr>\n",
       "<tr>\n",
       "  <th>x41</th>   <td>    0.0450</td> <td>    0.274</td> <td>    0.164</td> <td> 0.869</td> <td>   -0.491</td> <td>    0.581</td>\n",
       "</tr>\n",
       "<tr>\n",
       "  <th>x42</th>   <td>    0.0695</td> <td>    0.382</td> <td>    0.182</td> <td> 0.856</td> <td>   -0.679</td> <td>    0.818</td>\n",
       "</tr>\n",
       "<tr>\n",
       "  <th>x43</th>   <td>    0.1810</td> <td>    0.401</td> <td>    0.451</td> <td> 0.652</td> <td>   -0.606</td> <td>    0.968</td>\n",
       "</tr>\n",
       "<tr>\n",
       "  <th>x44</th>   <td>   -0.0483</td> <td>    0.373</td> <td>   -0.130</td> <td> 0.897</td> <td>   -0.778</td> <td>    0.682</td>\n",
       "</tr>\n",
       "<tr>\n",
       "  <th>x45</th>   <td>    0.0613</td> <td>    0.460</td> <td>    0.133</td> <td> 0.894</td> <td>   -0.840</td> <td>    0.963</td>\n",
       "</tr>\n",
       "<tr>\n",
       "  <th>x46</th>   <td>   -0.0639</td> <td>    0.357</td> <td>   -0.179</td> <td> 0.858</td> <td>   -0.763</td> <td>    0.636</td>\n",
       "</tr>\n",
       "<tr>\n",
       "  <th>x47</th>   <td>   -0.0239</td> <td>    0.424</td> <td>   -0.056</td> <td> 0.955</td> <td>   -0.856</td> <td>    0.808</td>\n",
       "</tr>\n",
       "<tr>\n",
       "  <th>x48</th>   <td>    0.1551</td> <td>    0.247</td> <td>    0.627</td> <td> 0.530</td> <td>   -0.330</td> <td>    0.640</td>\n",
       "</tr>\n",
       "<tr>\n",
       "  <th>x49</th>   <td>   -0.0009</td> <td>    0.462</td> <td>   -0.002</td> <td> 0.999</td> <td>   -0.906</td> <td>    0.905</td>\n",
       "</tr>\n",
       "<tr>\n",
       "  <th>x50</th>   <td>   -0.0924</td> <td>    0.321</td> <td>   -0.288</td> <td> 0.773</td> <td>   -0.721</td> <td>    0.536</td>\n",
       "</tr>\n",
       "</table><br/><br/>Possibly complete quasi-separation: A fraction 0.92 of observations can be<br/>perfectly predicted. This might indicate that there is complete<br/>quasi-separation. In this case some parameters will not be identified."
      ],
      "text/latex": [
       "\\begin{center}\n",
       "\\begin{tabular}{lclc}\n",
       "\\toprule\n",
       "\\textbf{Dep. Variable:}   & regression\\_labels & \\textbf{  No. Observations:  } &     1725    \\\\\n",
       "\\textbf{Model:}           &       Logit        & \\textbf{  Df Residuals:      } &     1674    \\\\\n",
       "\\textbf{Method:}          &        MLE         & \\textbf{  Df Model:          } &       50    \\\\\n",
       "\\textbf{Date:}            &  Thu, 13 Mar 2025  & \\textbf{  Pseudo R-squ.:     } &   0.9993    \\\\\n",
       "\\textbf{Time:}            &      17:10:47      & \\textbf{  Log-Likelihood:    } &  -0.84817   \\\\\n",
       "\\textbf{converged:}       &       False        & \\textbf{  LL-Null:           } &   -1189.1   \\\\\n",
       "\\textbf{Covariance Type:} &     nonrobust      & \\textbf{  LLR p-value:       } &    0.000    \\\\\n",
       "\\bottomrule\n",
       "\\end{tabular}\n",
       "\\begin{tabular}{lcccccc}\n",
       "               & \\textbf{coef} & \\textbf{std err} & \\textbf{z} & \\textbf{P$> |$z$|$} & \\textbf{[0.025} & \\textbf{0.975]}  \\\\\n",
       "\\midrule\n",
       "\\textbf{const} &      -0.0673  &        3.665     &    -0.018  &         0.985        &       -7.250    &        7.116     \\\\\n",
       "\\textbf{x1}    &      -0.1490  &        0.089     &    -1.667  &         0.095        &       -0.324    &        0.026     \\\\\n",
       "\\textbf{x2}    &      -0.2266  &        0.135     &    -1.683  &         0.092        &       -0.491    &        0.037     \\\\\n",
       "\\textbf{x3}    &       0.5616  &        0.248     &     2.261  &         0.024        &        0.075    &        1.048     \\\\\n",
       "\\textbf{x4}    &       0.3363  &        0.169     &     1.995  &         0.046        &        0.006    &        0.667     \\\\\n",
       "\\textbf{x5}    &       0.6762  &        0.314     &     2.152  &         0.031        &        0.060    &        1.292     \\\\\n",
       "\\textbf{x6}    &      -0.0503  &        0.215     &    -0.234  &         0.815        &       -0.471    &        0.370     \\\\\n",
       "\\textbf{x7}    &      -0.2339  &        0.215     &    -1.088  &         0.277        &       -0.655    &        0.188     \\\\\n",
       "\\textbf{x8}    &       0.0383  &        0.184     &     0.209  &         0.835        &       -0.322    &        0.399     \\\\\n",
       "\\textbf{x9}    &       0.0412  &        0.213     &     0.194  &         0.846        &       -0.375    &        0.458     \\\\\n",
       "\\textbf{x10}   &       0.2318  &        0.221     &     1.051  &         0.293        &       -0.201    &        0.664     \\\\\n",
       "\\textbf{x11}   &      -0.0769  &        0.411     &    -0.187  &         0.852        &       -0.883    &        0.729     \\\\\n",
       "\\textbf{x12}   &       0.0261  &        0.266     &     0.098  &         0.922        &       -0.494    &        0.547     \\\\\n",
       "\\textbf{x13}   &       0.0515  &        0.342     &     0.151  &         0.880        &       -0.619    &        0.722     \\\\\n",
       "\\textbf{x14}   &       0.3373  &        0.367     &     0.920  &         0.358        &       -0.381    &        1.056     \\\\\n",
       "\\textbf{x15}   &      -0.2184  &        0.321     &    -0.680  &         0.497        &       -0.848    &        0.412     \\\\\n",
       "\\textbf{x16}   &      -0.0244  &        0.339     &    -0.072  &         0.943        &       -0.689    &        0.640     \\\\\n",
       "\\textbf{x17}   &       0.0652  &        0.341     &     0.191  &         0.849        &       -0.604    &        0.734     \\\\\n",
       "\\textbf{x18}   &      -0.0291  &        0.274     &    -0.106  &         0.916        &       -0.567    &        0.509     \\\\\n",
       "\\textbf{x19}   &       0.0340  &        0.387     &     0.088  &         0.930        &       -0.724    &        0.792     \\\\\n",
       "\\textbf{x20}   &       0.0709  &        0.500     &     0.142  &         0.887        &       -0.908    &        1.050     \\\\\n",
       "\\textbf{x21}   &      -0.0603  &        0.395     &    -0.153  &         0.879        &       -0.834    &        0.714     \\\\\n",
       "\\textbf{x22}   &       0.0311  &        0.389     &     0.080  &         0.936        &       -0.732    &        0.794     \\\\\n",
       "\\textbf{x23}   &       0.0064  &        0.400     &     0.016  &         0.987        &       -0.777    &        0.790     \\\\\n",
       "\\textbf{x24}   &       0.1726  &        0.506     &     0.341  &         0.733        &       -0.819    &        1.164     \\\\\n",
       "\\textbf{x25}   &       0.0195  &        0.351     &     0.055  &         0.956        &       -0.668    &        0.707     \\\\\n",
       "\\textbf{x26}   &       0.0183  &        0.400     &     0.046  &         0.963        &       -0.766    &        0.802     \\\\\n",
       "\\textbf{x27}   &      -0.1903  &        0.395     &    -0.482  &         0.630        &       -0.965    &        0.584     \\\\\n",
       "\\textbf{x28}   &       0.0722  &        0.518     &     0.139  &         0.889        &       -0.943    &        1.088     \\\\\n",
       "\\textbf{x29}   &       0.0334  &        0.395     &     0.084  &         0.933        &       -0.742    &        0.808     \\\\\n",
       "\\textbf{x30}   &      -0.0857  &        0.429     &    -0.200  &         0.842        &       -0.926    &        0.755     \\\\\n",
       "\\textbf{x31}   &      -0.1420  &        0.367     &    -0.387  &         0.699        &       -0.862    &        0.578     \\\\\n",
       "\\textbf{x32}   &      -0.0026  &        0.350     &    -0.007  &         0.994        &       -0.689    &        0.684     \\\\\n",
       "\\textbf{x33}   &       0.0774  &        0.442     &     0.175  &         0.861        &       -0.790    &        0.945     \\\\\n",
       "\\textbf{x34}   &      -0.0271  &        0.471     &    -0.058  &         0.954        &       -0.951    &        0.896     \\\\\n",
       "\\textbf{x35}   &       0.1293  &        0.325     &     0.397  &         0.691        &       -0.508    &        0.767     \\\\\n",
       "\\textbf{x36}   &       0.0689  &        0.341     &     0.202  &         0.840        &       -0.599    &        0.737     \\\\\n",
       "\\textbf{x37}   &       0.0518  &        0.328     &     0.158  &         0.874        &       -0.590    &        0.694     \\\\\n",
       "\\textbf{x38}   &       0.0517  &        0.445     &     0.116  &         0.908        &       -0.820    &        0.924     \\\\\n",
       "\\textbf{x39}   &       0.2111  &        0.303     &     0.696  &         0.487        &       -0.384    &        0.806     \\\\\n",
       "\\textbf{x40}   &      -0.0204  &        0.371     &    -0.055  &         0.956        &       -0.747    &        0.706     \\\\\n",
       "\\textbf{x41}   &       0.0450  &        0.274     &     0.164  &         0.869        &       -0.491    &        0.581     \\\\\n",
       "\\textbf{x42}   &       0.0695  &        0.382     &     0.182  &         0.856        &       -0.679    &        0.818     \\\\\n",
       "\\textbf{x43}   &       0.1810  &        0.401     &     0.451  &         0.652        &       -0.606    &        0.968     \\\\\n",
       "\\textbf{x44}   &      -0.0483  &        0.373     &    -0.130  &         0.897        &       -0.778    &        0.682     \\\\\n",
       "\\textbf{x45}   &       0.0613  &        0.460     &     0.133  &         0.894        &       -0.840    &        0.963     \\\\\n",
       "\\textbf{x46}   &      -0.0639  &        0.357     &    -0.179  &         0.858        &       -0.763    &        0.636     \\\\\n",
       "\\textbf{x47}   &      -0.0239  &        0.424     &    -0.056  &         0.955        &       -0.856    &        0.808     \\\\\n",
       "\\textbf{x48}   &       0.1551  &        0.247     &     0.627  &         0.530        &       -0.330    &        0.640     \\\\\n",
       "\\textbf{x49}   &      -0.0009  &        0.462     &    -0.002  &         0.999        &       -0.906    &        0.905     \\\\\n",
       "\\textbf{x50}   &      -0.0924  &        0.321     &    -0.288  &         0.773        &       -0.721    &        0.536     \\\\\n",
       "\\bottomrule\n",
       "\\end{tabular}\n",
       "%\\caption{Logit Regression Results}\n",
       "\\end{center}\n",
       "\n",
       "Possibly complete quasi-separation: A fraction 0.92 of observations can be \\newline\n",
       " perfectly predicted. This might indicate that there is complete \\newline\n",
       " quasi-separation. In this case some parameters will not be identified."
      ],
      "text/plain": [
       "<class 'statsmodels.iolib.summary.Summary'>\n",
       "\"\"\"\n",
       "                           Logit Regression Results                           \n",
       "==============================================================================\n",
       "Dep. Variable:      regression_labels   No. Observations:                 1725\n",
       "Model:                          Logit   Df Residuals:                     1674\n",
       "Method:                           MLE   Df Model:                           50\n",
       "Date:                Thu, 13 Mar 2025   Pseudo R-squ.:                  0.9993\n",
       "Time:                        17:10:47   Log-Likelihood:               -0.84817\n",
       "converged:                      False   LL-Null:                       -1189.1\n",
       "Covariance Type:            nonrobust   LLR p-value:                     0.000\n",
       "==============================================================================\n",
       "                 coef    std err          z      P>|z|      [0.025      0.975]\n",
       "------------------------------------------------------------------------------\n",
       "const         -0.0673      3.665     -0.018      0.985      -7.250       7.116\n",
       "x1            -0.1490      0.089     -1.667      0.095      -0.324       0.026\n",
       "x2            -0.2266      0.135     -1.683      0.092      -0.491       0.037\n",
       "x3             0.5616      0.248      2.261      0.024       0.075       1.048\n",
       "x4             0.3363      0.169      1.995      0.046       0.006       0.667\n",
       "x5             0.6762      0.314      2.152      0.031       0.060       1.292\n",
       "x6            -0.0503      0.215     -0.234      0.815      -0.471       0.370\n",
       "x7            -0.2339      0.215     -1.088      0.277      -0.655       0.188\n",
       "x8             0.0383      0.184      0.209      0.835      -0.322       0.399\n",
       "x9             0.0412      0.213      0.194      0.846      -0.375       0.458\n",
       "x10            0.2318      0.221      1.051      0.293      -0.201       0.664\n",
       "x11           -0.0769      0.411     -0.187      0.852      -0.883       0.729\n",
       "x12            0.0261      0.266      0.098      0.922      -0.494       0.547\n",
       "x13            0.0515      0.342      0.151      0.880      -0.619       0.722\n",
       "x14            0.3373      0.367      0.920      0.358      -0.381       1.056\n",
       "x15           -0.2184      0.321     -0.680      0.497      -0.848       0.412\n",
       "x16           -0.0244      0.339     -0.072      0.943      -0.689       0.640\n",
       "x17            0.0652      0.341      0.191      0.849      -0.604       0.734\n",
       "x18           -0.0291      0.274     -0.106      0.916      -0.567       0.509\n",
       "x19            0.0340      0.387      0.088      0.930      -0.724       0.792\n",
       "x20            0.0709      0.500      0.142      0.887      -0.908       1.050\n",
       "x21           -0.0603      0.395     -0.153      0.879      -0.834       0.714\n",
       "x22            0.0311      0.389      0.080      0.936      -0.732       0.794\n",
       "x23            0.0064      0.400      0.016      0.987      -0.777       0.790\n",
       "x24            0.1726      0.506      0.341      0.733      -0.819       1.164\n",
       "x25            0.0195      0.351      0.055      0.956      -0.668       0.707\n",
       "x26            0.0183      0.400      0.046      0.963      -0.766       0.802\n",
       "x27           -0.1903      0.395     -0.482      0.630      -0.965       0.584\n",
       "x28            0.0722      0.518      0.139      0.889      -0.943       1.088\n",
       "x29            0.0334      0.395      0.084      0.933      -0.742       0.808\n",
       "x30           -0.0857      0.429     -0.200      0.842      -0.926       0.755\n",
       "x31           -0.1420      0.367     -0.387      0.699      -0.862       0.578\n",
       "x32           -0.0026      0.350     -0.007      0.994      -0.689       0.684\n",
       "x33            0.0774      0.442      0.175      0.861      -0.790       0.945\n",
       "x34           -0.0271      0.471     -0.058      0.954      -0.951       0.896\n",
       "x35            0.1293      0.325      0.397      0.691      -0.508       0.767\n",
       "x36            0.0689      0.341      0.202      0.840      -0.599       0.737\n",
       "x37            0.0518      0.328      0.158      0.874      -0.590       0.694\n",
       "x38            0.0517      0.445      0.116      0.908      -0.820       0.924\n",
       "x39            0.2111      0.303      0.696      0.487      -0.384       0.806\n",
       "x40           -0.0204      0.371     -0.055      0.956      -0.747       0.706\n",
       "x41            0.0450      0.274      0.164      0.869      -0.491       0.581\n",
       "x42            0.0695      0.382      0.182      0.856      -0.679       0.818\n",
       "x43            0.1810      0.401      0.451      0.652      -0.606       0.968\n",
       "x44           -0.0483      0.373     -0.130      0.897      -0.778       0.682\n",
       "x45            0.0613      0.460      0.133      0.894      -0.840       0.963\n",
       "x46           -0.0639      0.357     -0.179      0.858      -0.763       0.636\n",
       "x47           -0.0239      0.424     -0.056      0.955      -0.856       0.808\n",
       "x48            0.1551      0.247      0.627      0.530      -0.330       0.640\n",
       "x49           -0.0009      0.462     -0.002      0.999      -0.906       0.905\n",
       "x50           -0.0924      0.321     -0.288      0.773      -0.721       0.536\n",
       "==============================================================================\n",
       "\n",
       "Possibly complete quasi-separation: A fraction 0.92 of observations can be\n",
       "perfectly predicted. This might indicate that there is complete\n",
       "quasi-separation. In this case some parameters will not be identified.\n",
       "\"\"\""
      ]
     },
     "execution_count": 14,
     "metadata": {},
     "output_type": "execute_result"
    }
   ],
   "source": [
    "logit.summary()\n",
    "# complete quasi-separation problem. Regularization necessary"
   ]
  },
  {
   "cell_type": "markdown",
   "metadata": {},
   "source": [
    "We meet quasi-separation problem, where all p-values are large. Try logistic with LASSO. "
   ]
  },
  {
   "cell_type": "code",
   "execution_count": 15,
   "metadata": {},
   "outputs": [
    {
     "name": "stdout",
     "output_type": "stream",
     "text": [
      "Classification accuracy for 021 L4 RSP-ACA Glut: 0.976231884057971\n",
      "Number of selected features: 6\n"
     ]
    }
   ],
   "source": [
    "C = 1e-3\n",
    "subclass_adata, lasso_logreg, important_features, acc = lasso_logistic_on_svd(\n",
    "                        subclass_adata, subclass_cells, regression_terms=['donor_age_category'], C=C\n",
    "                        )\n",
    "print(f\"Classification accuracy for {subclass_name}: {acc}\")\n",
    "print(f\"Number of selected features: {len(important_features)}\")"
   ]
  },
  {
   "cell_type": "markdown",
   "metadata": {},
   "source": [
    "Visualize the result with SHAP. "
   ]
  },
  {
   "cell_type": "code",
   "execution_count": 16,
   "metadata": {},
   "outputs": [
    {
     "data": {
      "image/png": "[encoded data removed]",
      "text/plain": [
       "<Figure size 400x400 with 2 Axes>"
      ]
     },
     "metadata": {},
     "output_type": "display_data"
    }
   ],
   "source": [
    "n_selected_features = len(important_features)\n",
    "shap_values = shap_importance_analysis(lasso_logreg, subclass_adata, max_display=n_selected_features)\n",
    "sorted_indices = order_loadings_by_shap(shap_values)\n",
    "selected_features = sorted_indices[:n_selected_features]\n",
    "loading_idx = [i-1 for i in selected_features]"
   ]
  },
  {
   "cell_type": "code",
   "execution_count": 17,
   "metadata": {},
   "outputs": [],
   "source": [
    "n_genes_per_pc=200\n",
    "degenes_detected_among_all, degenes_detected_among_extracted = detect_degenes_accumulated(\n",
    "                        subclass_adata, loading_idx, degenes_subclass['gene_symbol'], n_genes_per_pc=n_genes_per_pc\n",
    "                        )"
   ]
  },
  {
   "cell_type": "code",
   "execution_count": 18,
   "metadata": {},
   "outputs": [
    {
     "data": {
      "image/png": "[encoded data removed]",
      "text/plain": [
       "<Figure size 400x300 with 1 Axes>"
      ]
     },
     "metadata": {},
     "output_type": "display_data"
    }
   ],
   "source": [
    "plot_degene_trend(n_selected_features, degenes_detected_among_all, degenes_detected_among_extracted, acc, 'High DE gene counts', subclass_name)"
   ]
  },
  {
   "cell_type": "markdown",
   "metadata": {},
   "source": [
    "Analyze data from STR D1 Gaba subclass. "
   ]
  },
  {
   "cell_type": "code",
   "execution_count": 19,
   "metadata": {},
   "outputs": [
    {
     "name": "stderr",
     "output_type": "stream",
     "text": [
      "/opt/anaconda3/envs/rna/lib/python3.12/site-packages/scanpy/preprocessing/_pca.py:314: ImplicitModificationWarning: Setting element `.obsm['X_pca']` of view, initializing view as actual.\n",
      "  adata.obsm[key_obsm] = X_pca\n"
     ]
    }
   ],
   "source": [
    "# detect degenes by subclass\n",
    "\n",
    "subclass_name = aged_medium[0]\n",
    "degenes_subclass = degenes[degenes['grouping_name'] == subclass_name]\n",
    "subclass_adata, subclass_cells = filter_cells_by_anaotation(adata, cell_extended, 'subclass_name', subclass_name)\n",
    "subclass_adata = filter_genes_by_expression(subclass_adata)\n",
    "sc.tl.pca(subclass_adata, n_comps=50)"
   ]
  },
  {
   "cell_type": "code",
   "execution_count": 20,
   "metadata": {},
   "outputs": [
    {
     "data": {
      "text/plain": [
       "AnnData object with n_obs × n_vars = 21832 × 11647\n",
       "    obs: 'cell_barcode', 'library_label', 'anatomical_division_label', 'alignment_job_id'\n",
       "    var: 'gene_symbol'\n",
       "    uns: 'pca'\n",
       "    obsm: 'X_pca'\n",
       "    varm: 'PCs'"
      ]
     },
     "execution_count": 20,
     "metadata": {},
     "output_type": "execute_result"
    }
   ],
   "source": [
    "subclass_adata"
   ]
  },
  {
   "cell_type": "markdown",
   "metadata": {},
   "source": [
    "Logistic regression without LASSO. "
   ]
  },
  {
   "cell_type": "code",
   "execution_count": 21,
   "metadata": {},
   "outputs": [
    {
     "name": "stdout",
     "output_type": "stream",
     "text": [
      "         Current function value: 0.051240\n",
      "         Iterations: 35\n",
      "         Function evaluations: 60\n",
      "         Gradient evaluations: 60\n",
      "Classification accuracy for 061 STR D1 Gaba: 0.9821821179919384\n"
     ]
    },
    {
     "name": "stderr",
     "output_type": "stream",
     "text": [
      "/opt/anaconda3/envs/rna/lib/python3.12/site-packages/scipy/optimize/_optimize.py:1680: OptimizeWarning: Maximum number of iterations has been exceeded.\n",
      "  res = _minimize_cg(f, x0, args, fprime, callback=callback, c1=c1, c2=c2,\n",
      "/opt/anaconda3/envs/rna/lib/python3.12/site-packages/statsmodels/base/model.py:607: ConvergenceWarning: Maximum Likelihood optimization failed to converge. Check mle_retvals\n",
      "  warnings.warn(\"Maximum Likelihood optimization failed to \"\n"
     ]
    }
   ],
   "source": [
    "_, logit, important_features_logit, acc_logit = logistic_regression(\n",
    "                        subclass_adata, subclass_cells, regression_terms=['donor_age_category'], alpha=0.10)\n",
    "print(f\"Classification accuracy for {subclass_name}: {acc_logit}\")"
   ]
  },
  {
   "cell_type": "code",
   "execution_count": 22,
   "metadata": {},
   "outputs": [
    {
     "data": {
      "text/html": [
       "<table class=\"simpletable\">\n",
       "<caption>Logit Regression Results</caption>\n",
       "<tr>\n",
       "  <th>Dep. Variable:</th>   <td>regression_labels</td> <th>  No. Observations:  </th>  <td> 21832</td> \n",
       "</tr>\n",
       "<tr>\n",
       "  <th>Model:</th>                 <td>Logit</td>       <th>  Df Residuals:      </th>  <td> 21781</td> \n",
       "</tr>\n",
       "<tr>\n",
       "  <th>Method:</th>                 <td>MLE</td>        <th>  Df Model:          </th>  <td>    50</td> \n",
       "</tr>\n",
       "<tr>\n",
       "  <th>Date:</th>            <td>Thu, 13 Mar 2025</td>  <th>  Pseudo R-squ.:     </th>  <td>0.9248</td> \n",
       "</tr>\n",
       "<tr>\n",
       "  <th>Time:</th>                <td>17:12:06</td>      <th>  Log-Likelihood:    </th> <td> -1118.7</td>\n",
       "</tr>\n",
       "<tr>\n",
       "  <th>converged:</th>             <td>False</td>       <th>  LL-Null:           </th> <td> -14866.</td>\n",
       "</tr>\n",
       "<tr>\n",
       "  <th>Covariance Type:</th>     <td>nonrobust</td>     <th>  LLR p-value:       </th>  <td> 0.000</td> \n",
       "</tr>\n",
       "</table>\n",
       "<table class=\"simpletable\">\n",
       "<tr>\n",
       "    <td></td>       <th>coef</th>     <th>std err</th>      <th>z</th>      <th>P>|z|</th>  <th>[0.025</th>    <th>0.975]</th>  \n",
       "</tr>\n",
       "<tr>\n",
       "  <th>const</th> <td>   -0.2542</td> <td>    0.065</td> <td>   -3.910</td> <td> 0.000</td> <td>   -0.382</td> <td>   -0.127</td>\n",
       "</tr>\n",
       "<tr>\n",
       "  <th>x1</th>    <td>    0.0126</td> <td>    0.001</td> <td>    9.127</td> <td> 0.000</td> <td>    0.010</td> <td>    0.015</td>\n",
       "</tr>\n",
       "<tr>\n",
       "  <th>x2</th>    <td>    0.0505</td> <td>    0.002</td> <td>   21.796</td> <td> 0.000</td> <td>    0.046</td> <td>    0.055</td>\n",
       "</tr>\n",
       "<tr>\n",
       "  <th>x3</th>    <td>   -0.0067</td> <td>    0.002</td> <td>   -2.906</td> <td> 0.004</td> <td>   -0.011</td> <td>   -0.002</td>\n",
       "</tr>\n",
       "<tr>\n",
       "  <th>x4</th>    <td>   -0.0734</td> <td>    0.003</td> <td>  -22.350</td> <td> 0.000</td> <td>   -0.080</td> <td>   -0.067</td>\n",
       "</tr>\n",
       "<tr>\n",
       "  <th>x5</th>    <td>    0.1438</td> <td>    0.005</td> <td>   30.327</td> <td> 0.000</td> <td>    0.135</td> <td>    0.153</td>\n",
       "</tr>\n",
       "<tr>\n",
       "  <th>x6</th>    <td>    0.0628</td> <td>    0.004</td> <td>   17.496</td> <td> 0.000</td> <td>    0.056</td> <td>    0.070</td>\n",
       "</tr>\n",
       "<tr>\n",
       "  <th>x7</th>    <td>   -0.1966</td> <td>    0.006</td> <td>  -32.598</td> <td> 0.000</td> <td>   -0.208</td> <td>   -0.185</td>\n",
       "</tr>\n",
       "<tr>\n",
       "  <th>x8</th>    <td>    0.0733</td> <td>    0.004</td> <td>   17.117</td> <td> 0.000</td> <td>    0.065</td> <td>    0.082</td>\n",
       "</tr>\n",
       "<tr>\n",
       "  <th>x9</th>    <td>   -0.1510</td> <td>    0.006</td> <td>  -23.988</td> <td> 0.000</td> <td>   -0.163</td> <td>   -0.139</td>\n",
       "</tr>\n",
       "<tr>\n",
       "  <th>x10</th>   <td>   -0.2706</td> <td>    0.009</td> <td>  -31.734</td> <td> 0.000</td> <td>   -0.287</td> <td>   -0.254</td>\n",
       "</tr>\n",
       "<tr>\n",
       "  <th>x11</th>   <td>   -0.1504</td> <td>    0.006</td> <td>  -24.186</td> <td> 0.000</td> <td>   -0.163</td> <td>   -0.138</td>\n",
       "</tr>\n",
       "<tr>\n",
       "  <th>x12</th>   <td>   -0.1901</td> <td>    0.007</td> <td>  -27.156</td> <td> 0.000</td> <td>   -0.204</td> <td>   -0.176</td>\n",
       "</tr>\n",
       "<tr>\n",
       "  <th>x13</th>   <td>   -0.1870</td> <td>    0.007</td> <td>  -25.975</td> <td> 0.000</td> <td>   -0.201</td> <td>   -0.173</td>\n",
       "</tr>\n",
       "<tr>\n",
       "  <th>x14</th>   <td>   -0.0388</td> <td>    0.006</td> <td>   -6.760</td> <td> 0.000</td> <td>   -0.050</td> <td>   -0.028</td>\n",
       "</tr>\n",
       "<tr>\n",
       "  <th>x15</th>   <td>    0.4596</td> <td>    0.013</td> <td>   35.940</td> <td> 0.000</td> <td>    0.435</td> <td>    0.485</td>\n",
       "</tr>\n",
       "<tr>\n",
       "  <th>x16</th>   <td>   -0.1316</td> <td>    0.007</td> <td>  -17.927</td> <td> 0.000</td> <td>   -0.146</td> <td>   -0.117</td>\n",
       "</tr>\n",
       "<tr>\n",
       "  <th>x17</th>   <td>    0.1596</td> <td>    0.008</td> <td>   20.094</td> <td> 0.000</td> <td>    0.144</td> <td>    0.175</td>\n",
       "</tr>\n",
       "<tr>\n",
       "  <th>x18</th>   <td>    0.0726</td> <td>    0.007</td> <td>    9.937</td> <td> 0.000</td> <td>    0.058</td> <td>    0.087</td>\n",
       "</tr>\n",
       "<tr>\n",
       "  <th>x19</th>   <td>   -0.1145</td> <td>    0.008</td> <td>  -14.818</td> <td> 0.000</td> <td>   -0.130</td> <td>   -0.099</td>\n",
       "</tr>\n",
       "<tr>\n",
       "  <th>x20</th>   <td>   -0.0362</td> <td>    0.008</td> <td>   -4.639</td> <td> 0.000</td> <td>   -0.051</td> <td>   -0.021</td>\n",
       "</tr>\n",
       "<tr>\n",
       "  <th>x21</th>   <td>   -0.1503</td> <td>    0.008</td> <td>  -17.774</td> <td> 0.000</td> <td>   -0.167</td> <td>   -0.134</td>\n",
       "</tr>\n",
       "<tr>\n",
       "  <th>x22</th>   <td>   -0.1699</td> <td>    0.009</td> <td>  -19.637</td> <td> 0.000</td> <td>   -0.187</td> <td>   -0.153</td>\n",
       "</tr>\n",
       "<tr>\n",
       "  <th>x23</th>   <td>   -0.1219</td> <td>    0.009</td> <td>  -13.944</td> <td> 0.000</td> <td>   -0.139</td> <td>   -0.105</td>\n",
       "</tr>\n",
       "<tr>\n",
       "  <th>x24</th>   <td>    0.0466</td> <td>    0.008</td> <td>    5.529</td> <td> 0.000</td> <td>    0.030</td> <td>    0.063</td>\n",
       "</tr>\n",
       "<tr>\n",
       "  <th>x25</th>   <td>   -0.2044</td> <td>    0.011</td> <td>  -19.048</td> <td> 0.000</td> <td>   -0.225</td> <td>   -0.183</td>\n",
       "</tr>\n",
       "<tr>\n",
       "  <th>x26</th>   <td>    0.5005</td> <td>    0.015</td> <td>   32.753</td> <td> 0.000</td> <td>    0.471</td> <td>    0.530</td>\n",
       "</tr>\n",
       "<tr>\n",
       "  <th>x27</th>   <td>   -0.0344</td> <td>    0.009</td> <td>   -3.845</td> <td> 0.000</td> <td>   -0.052</td> <td>   -0.017</td>\n",
       "</tr>\n",
       "<tr>\n",
       "  <th>x28</th>   <td>    0.1929</td> <td>    0.010</td> <td>   18.551</td> <td> 0.000</td> <td>    0.173</td> <td>    0.213</td>\n",
       "</tr>\n",
       "<tr>\n",
       "  <th>x29</th>   <td>    0.1519</td> <td>    0.010</td> <td>   15.146</td> <td> 0.000</td> <td>    0.132</td> <td>    0.172</td>\n",
       "</tr>\n",
       "<tr>\n",
       "  <th>x30</th>   <td>   -0.0041</td> <td>    0.009</td> <td>   -0.439</td> <td> 0.661</td> <td>   -0.023</td> <td>    0.014</td>\n",
       "</tr>\n",
       "<tr>\n",
       "  <th>x31</th>   <td>    0.0165</td> <td>    0.010</td> <td>    1.665</td> <td> 0.096</td> <td>   -0.003</td> <td>    0.036</td>\n",
       "</tr>\n",
       "<tr>\n",
       "  <th>x32</th>   <td>    0.1562</td> <td>    0.011</td> <td>   14.419</td> <td> 0.000</td> <td>    0.135</td> <td>    0.177</td>\n",
       "</tr>\n",
       "<tr>\n",
       "  <th>x33</th>   <td>   -0.1130</td> <td>    0.011</td> <td>  -10.716</td> <td> 0.000</td> <td>   -0.134</td> <td>   -0.092</td>\n",
       "</tr>\n",
       "<tr>\n",
       "  <th>x34</th>   <td>    0.0535</td> <td>    0.010</td> <td>    5.099</td> <td> 0.000</td> <td>    0.033</td> <td>    0.074</td>\n",
       "</tr>\n",
       "<tr>\n",
       "  <th>x35</th>   <td>   -0.0283</td> <td>    0.011</td> <td>   -2.680</td> <td> 0.007</td> <td>   -0.049</td> <td>   -0.008</td>\n",
       "</tr>\n",
       "<tr>\n",
       "  <th>x36</th>   <td>    0.2968</td> <td>    0.012</td> <td>   23.979</td> <td> 0.000</td> <td>    0.273</td> <td>    0.321</td>\n",
       "</tr>\n",
       "<tr>\n",
       "  <th>x37</th>   <td>    0.2417</td> <td>    0.012</td> <td>   19.408</td> <td> 0.000</td> <td>    0.217</td> <td>    0.266</td>\n",
       "</tr>\n",
       "<tr>\n",
       "  <th>x38</th>   <td>   -0.1491</td> <td>    0.011</td> <td>  -12.977</td> <td> 0.000</td> <td>   -0.172</td> <td>   -0.127</td>\n",
       "</tr>\n",
       "<tr>\n",
       "  <th>x39</th>   <td>   -0.0575</td> <td>    0.011</td> <td>   -5.278</td> <td> 0.000</td> <td>   -0.079</td> <td>   -0.036</td>\n",
       "</tr>\n",
       "<tr>\n",
       "  <th>x40</th>   <td>    0.0547</td> <td>    0.011</td> <td>    5.154</td> <td> 0.000</td> <td>    0.034</td> <td>    0.076</td>\n",
       "</tr>\n",
       "<tr>\n",
       "  <th>x41</th>   <td>   -0.0622</td> <td>    0.011</td> <td>   -5.681</td> <td> 0.000</td> <td>   -0.084</td> <td>   -0.041</td>\n",
       "</tr>\n",
       "<tr>\n",
       "  <th>x42</th>   <td>   -0.0220</td> <td>    0.011</td> <td>   -1.977</td> <td> 0.048</td> <td>   -0.044</td> <td>   -0.000</td>\n",
       "</tr>\n",
       "<tr>\n",
       "  <th>x43</th>   <td>    0.0861</td> <td>    0.011</td> <td>    7.709</td> <td> 0.000</td> <td>    0.064</td> <td>    0.108</td>\n",
       "</tr>\n",
       "<tr>\n",
       "  <th>x44</th>   <td>   -0.0780</td> <td>    0.012</td> <td>   -6.754</td> <td> 0.000</td> <td>   -0.101</td> <td>   -0.055</td>\n",
       "</tr>\n",
       "<tr>\n",
       "  <th>x45</th>   <td>    0.1226</td> <td>    0.012</td> <td>   10.370</td> <td> 0.000</td> <td>    0.099</td> <td>    0.146</td>\n",
       "</tr>\n",
       "<tr>\n",
       "  <th>x46</th>   <td>    0.0361</td> <td>    0.011</td> <td>    3.267</td> <td> 0.001</td> <td>    0.014</td> <td>    0.058</td>\n",
       "</tr>\n",
       "<tr>\n",
       "  <th>x47</th>   <td>    0.0053</td> <td>    0.012</td> <td>    0.458</td> <td> 0.647</td> <td>   -0.017</td> <td>    0.028</td>\n",
       "</tr>\n",
       "<tr>\n",
       "  <th>x48</th>   <td>   -0.0580</td> <td>    0.012</td> <td>   -4.895</td> <td> 0.000</td> <td>   -0.081</td> <td>   -0.035</td>\n",
       "</tr>\n",
       "<tr>\n",
       "  <th>x49</th>   <td>   -0.0715</td> <td>    0.012</td> <td>   -6.135</td> <td> 0.000</td> <td>   -0.094</td> <td>   -0.049</td>\n",
       "</tr>\n",
       "<tr>\n",
       "  <th>x50</th>   <td>   -0.1119</td> <td>    0.012</td> <td>   -9.506</td> <td> 0.000</td> <td>   -0.135</td> <td>   -0.089</td>\n",
       "</tr>\n",
       "</table><br/><br/>Possibly complete quasi-separation: A fraction 0.42 of observations can be<br/>perfectly predicted. This might indicate that there is complete<br/>quasi-separation. In this case some parameters will not be identified."
      ],
      "text/latex": [
       "\\begin{center}\n",
       "\\begin{tabular}{lclc}\n",
       "\\toprule\n",
       "\\textbf{Dep. Variable:}   & regression\\_labels & \\textbf{  No. Observations:  } &    21832    \\\\\n",
       "\\textbf{Model:}           &       Logit        & \\textbf{  Df Residuals:      } &    21781    \\\\\n",
       "\\textbf{Method:}          &        MLE         & \\textbf{  Df Model:          } &       50    \\\\\n",
       "\\textbf{Date:}            &  Thu, 13 Mar 2025  & \\textbf{  Pseudo R-squ.:     } &   0.9248    \\\\\n",
       "\\textbf{Time:}            &      17:12:06      & \\textbf{  Log-Likelihood:    } &   -1118.7   \\\\\n",
       "\\textbf{converged:}       &       False        & \\textbf{  LL-Null:           } &   -14866.   \\\\\n",
       "\\textbf{Covariance Type:} &     nonrobust      & \\textbf{  LLR p-value:       } &    0.000    \\\\\n",
       "\\bottomrule\n",
       "\\end{tabular}\n",
       "\\begin{tabular}{lcccccc}\n",
       "               & \\textbf{coef} & \\textbf{std err} & \\textbf{z} & \\textbf{P$> |$z$|$} & \\textbf{[0.025} & \\textbf{0.975]}  \\\\\n",
       "\\midrule\n",
       "\\textbf{const} &      -0.2542  &        0.065     &    -3.910  &         0.000        &       -0.382    &       -0.127     \\\\\n",
       "\\textbf{x1}    &       0.0126  &        0.001     &     9.127  &         0.000        &        0.010    &        0.015     \\\\\n",
       "\\textbf{x2}    &       0.0505  &        0.002     &    21.796  &         0.000        &        0.046    &        0.055     \\\\\n",
       "\\textbf{x3}    &      -0.0067  &        0.002     &    -2.906  &         0.004        &       -0.011    &       -0.002     \\\\\n",
       "\\textbf{x4}    &      -0.0734  &        0.003     &   -22.350  &         0.000        &       -0.080    &       -0.067     \\\\\n",
       "\\textbf{x5}    &       0.1438  &        0.005     &    30.327  &         0.000        &        0.135    &        0.153     \\\\\n",
       "\\textbf{x6}    &       0.0628  &        0.004     &    17.496  &         0.000        &        0.056    &        0.070     \\\\\n",
       "\\textbf{x7}    &      -0.1966  &        0.006     &   -32.598  &         0.000        &       -0.208    &       -0.185     \\\\\n",
       "\\textbf{x8}    &       0.0733  &        0.004     &    17.117  &         0.000        &        0.065    &        0.082     \\\\\n",
       "\\textbf{x9}    &      -0.1510  &        0.006     &   -23.988  &         0.000        &       -0.163    &       -0.139     \\\\\n",
       "\\textbf{x10}   &      -0.2706  &        0.009     &   -31.734  &         0.000        &       -0.287    &       -0.254     \\\\\n",
       "\\textbf{x11}   &      -0.1504  &        0.006     &   -24.186  &         0.000        &       -0.163    &       -0.138     \\\\\n",
       "\\textbf{x12}   &      -0.1901  &        0.007     &   -27.156  &         0.000        &       -0.204    &       -0.176     \\\\\n",
       "\\textbf{x13}   &      -0.1870  &        0.007     &   -25.975  &         0.000        &       -0.201    &       -0.173     \\\\\n",
       "\\textbf{x14}   &      -0.0388  &        0.006     &    -6.760  &         0.000        &       -0.050    &       -0.028     \\\\\n",
       "\\textbf{x15}   &       0.4596  &        0.013     &    35.940  &         0.000        &        0.435    &        0.485     \\\\\n",
       "\\textbf{x16}   &      -0.1316  &        0.007     &   -17.927  &         0.000        &       -0.146    &       -0.117     \\\\\n",
       "\\textbf{x17}   &       0.1596  &        0.008     &    20.094  &         0.000        &        0.144    &        0.175     \\\\\n",
       "\\textbf{x18}   &       0.0726  &        0.007     &     9.937  &         0.000        &        0.058    &        0.087     \\\\\n",
       "\\textbf{x19}   &      -0.1145  &        0.008     &   -14.818  &         0.000        &       -0.130    &       -0.099     \\\\\n",
       "\\textbf{x20}   &      -0.0362  &        0.008     &    -4.639  &         0.000        &       -0.051    &       -0.021     \\\\\n",
       "\\textbf{x21}   &      -0.1503  &        0.008     &   -17.774  &         0.000        &       -0.167    &       -0.134     \\\\\n",
       "\\textbf{x22}   &      -0.1699  &        0.009     &   -19.637  &         0.000        &       -0.187    &       -0.153     \\\\\n",
       "\\textbf{x23}   &      -0.1219  &        0.009     &   -13.944  &         0.000        &       -0.139    &       -0.105     \\\\\n",
       "\\textbf{x24}   &       0.0466  &        0.008     &     5.529  &         0.000        &        0.030    &        0.063     \\\\\n",
       "\\textbf{x25}   &      -0.2044  &        0.011     &   -19.048  &         0.000        &       -0.225    &       -0.183     \\\\\n",
       "\\textbf{x26}   &       0.5005  &        0.015     &    32.753  &         0.000        &        0.471    &        0.530     \\\\\n",
       "\\textbf{x27}   &      -0.0344  &        0.009     &    -3.845  &         0.000        &       -0.052    &       -0.017     \\\\\n",
       "\\textbf{x28}   &       0.1929  &        0.010     &    18.551  &         0.000        &        0.173    &        0.213     \\\\\n",
       "\\textbf{x29}   &       0.1519  &        0.010     &    15.146  &         0.000        &        0.132    &        0.172     \\\\\n",
       "\\textbf{x30}   &      -0.0041  &        0.009     &    -0.439  &         0.661        &       -0.023    &        0.014     \\\\\n",
       "\\textbf{x31}   &       0.0165  &        0.010     &     1.665  &         0.096        &       -0.003    &        0.036     \\\\\n",
       "\\textbf{x32}   &       0.1562  &        0.011     &    14.419  &         0.000        &        0.135    &        0.177     \\\\\n",
       "\\textbf{x33}   &      -0.1130  &        0.011     &   -10.716  &         0.000        &       -0.134    &       -0.092     \\\\\n",
       "\\textbf{x34}   &       0.0535  &        0.010     &     5.099  &         0.000        &        0.033    &        0.074     \\\\\n",
       "\\textbf{x35}   &      -0.0283  &        0.011     &    -2.680  &         0.007        &       -0.049    &       -0.008     \\\\\n",
       "\\textbf{x36}   &       0.2968  &        0.012     &    23.979  &         0.000        &        0.273    &        0.321     \\\\\n",
       "\\textbf{x37}   &       0.2417  &        0.012     &    19.408  &         0.000        &        0.217    &        0.266     \\\\\n",
       "\\textbf{x38}   &      -0.1491  &        0.011     &   -12.977  &         0.000        &       -0.172    &       -0.127     \\\\\n",
       "\\textbf{x39}   &      -0.0575  &        0.011     &    -5.278  &         0.000        &       -0.079    &       -0.036     \\\\\n",
       "\\textbf{x40}   &       0.0547  &        0.011     &     5.154  &         0.000        &        0.034    &        0.076     \\\\\n",
       "\\textbf{x41}   &      -0.0622  &        0.011     &    -5.681  &         0.000        &       -0.084    &       -0.041     \\\\\n",
       "\\textbf{x42}   &      -0.0220  &        0.011     &    -1.977  &         0.048        &       -0.044    &       -0.000     \\\\\n",
       "\\textbf{x43}   &       0.0861  &        0.011     &     7.709  &         0.000        &        0.064    &        0.108     \\\\\n",
       "\\textbf{x44}   &      -0.0780  &        0.012     &    -6.754  &         0.000        &       -0.101    &       -0.055     \\\\\n",
       "\\textbf{x45}   &       0.1226  &        0.012     &    10.370  &         0.000        &        0.099    &        0.146     \\\\\n",
       "\\textbf{x46}   &       0.0361  &        0.011     &     3.267  &         0.001        &        0.014    &        0.058     \\\\\n",
       "\\textbf{x47}   &       0.0053  &        0.012     &     0.458  &         0.647        &       -0.017    &        0.028     \\\\\n",
       "\\textbf{x48}   &      -0.0580  &        0.012     &    -4.895  &         0.000        &       -0.081    &       -0.035     \\\\\n",
       "\\textbf{x49}   &      -0.0715  &        0.012     &    -6.135  &         0.000        &       -0.094    &       -0.049     \\\\\n",
       "\\textbf{x50}   &      -0.1119  &        0.012     &    -9.506  &         0.000        &       -0.135    &       -0.089     \\\\\n",
       "\\bottomrule\n",
       "\\end{tabular}\n",
       "%\\caption{Logit Regression Results}\n",
       "\\end{center}\n",
       "\n",
       "Possibly complete quasi-separation: A fraction 0.42 of observations can be \\newline\n",
       " perfectly predicted. This might indicate that there is complete \\newline\n",
       " quasi-separation. In this case some parameters will not be identified."
      ],
      "text/plain": [
       "<class 'statsmodels.iolib.summary.Summary'>\n",
       "\"\"\"\n",
       "                           Logit Regression Results                           \n",
       "==============================================================================\n",
       "Dep. Variable:      regression_labels   No. Observations:                21832\n",
       "Model:                          Logit   Df Residuals:                    21781\n",
       "Method:                           MLE   Df Model:                           50\n",
       "Date:                Thu, 13 Mar 2025   Pseudo R-squ.:                  0.9248\n",
       "Time:                        17:12:06   Log-Likelihood:                -1118.7\n",
       "converged:                      False   LL-Null:                       -14866.\n",
       "Covariance Type:            nonrobust   LLR p-value:                     0.000\n",
       "==============================================================================\n",
       "                 coef    std err          z      P>|z|      [0.025      0.975]\n",
       "------------------------------------------------------------------------------\n",
       "const         -0.2542      0.065     -3.910      0.000      -0.382      -0.127\n",
       "x1             0.0126      0.001      9.127      0.000       0.010       0.015\n",
       "x2             0.0505      0.002     21.796      0.000       0.046       0.055\n",
       "x3            -0.0067      0.002     -2.906      0.004      -0.011      -0.002\n",
       "x4            -0.0734      0.003    -22.350      0.000      -0.080      -0.067\n",
       "x5             0.1438      0.005     30.327      0.000       0.135       0.153\n",
       "x6             0.0628      0.004     17.496      0.000       0.056       0.070\n",
       "x7            -0.1966      0.006    -32.598      0.000      -0.208      -0.185\n",
       "x8             0.0733      0.004     17.117      0.000       0.065       0.082\n",
       "x9            -0.1510      0.006    -23.988      0.000      -0.163      -0.139\n",
       "x10           -0.2706      0.009    -31.734      0.000      -0.287      -0.254\n",
       "x11           -0.1504      0.006    -24.186      0.000      -0.163      -0.138\n",
       "x12           -0.1901      0.007    -27.156      0.000      -0.204      -0.176\n",
       "x13           -0.1870      0.007    -25.975      0.000      -0.201      -0.173\n",
       "x14           -0.0388      0.006     -6.760      0.000      -0.050      -0.028\n",
       "x15            0.4596      0.013     35.940      0.000       0.435       0.485\n",
       "x16           -0.1316      0.007    -17.927      0.000      -0.146      -0.117\n",
       "x17            0.1596      0.008     20.094      0.000       0.144       0.175\n",
       "x18            0.0726      0.007      9.937      0.000       0.058       0.087\n",
       "x19           -0.1145      0.008    -14.818      0.000      -0.130      -0.099\n",
       "x20           -0.0362      0.008     -4.639      0.000      -0.051      -0.021\n",
       "x21           -0.1503      0.008    -17.774      0.000      -0.167      -0.134\n",
       "x22           -0.1699      0.009    -19.637      0.000      -0.187      -0.153\n",
       "x23           -0.1219      0.009    -13.944      0.000      -0.139      -0.105\n",
       "x24            0.0466      0.008      5.529      0.000       0.030       0.063\n",
       "x25           -0.2044      0.011    -19.048      0.000      -0.225      -0.183\n",
       "x26            0.5005      0.015     32.753      0.000       0.471       0.530\n",
       "x27           -0.0344      0.009     -3.845      0.000      -0.052      -0.017\n",
       "x28            0.1929      0.010     18.551      0.000       0.173       0.213\n",
       "x29            0.1519      0.010     15.146      0.000       0.132       0.172\n",
       "x30           -0.0041      0.009     -0.439      0.661      -0.023       0.014\n",
       "x31            0.0165      0.010      1.665      0.096      -0.003       0.036\n",
       "x32            0.1562      0.011     14.419      0.000       0.135       0.177\n",
       "x33           -0.1130      0.011    -10.716      0.000      -0.134      -0.092\n",
       "x34            0.0535      0.010      5.099      0.000       0.033       0.074\n",
       "x35           -0.0283      0.011     -2.680      0.007      -0.049      -0.008\n",
       "x36            0.2968      0.012     23.979      0.000       0.273       0.321\n",
       "x37            0.2417      0.012     19.408      0.000       0.217       0.266\n",
       "x38           -0.1491      0.011    -12.977      0.000      -0.172      -0.127\n",
       "x39           -0.0575      0.011     -5.278      0.000      -0.079      -0.036\n",
       "x40            0.0547      0.011      5.154      0.000       0.034       0.076\n",
       "x41           -0.0622      0.011     -5.681      0.000      -0.084      -0.041\n",
       "x42           -0.0220      0.011     -1.977      0.048      -0.044      -0.000\n",
       "x43            0.0861      0.011      7.709      0.000       0.064       0.108\n",
       "x44           -0.0780      0.012     -6.754      0.000      -0.101      -0.055\n",
       "x45            0.1226      0.012     10.370      0.000       0.099       0.146\n",
       "x46            0.0361      0.011      3.267      0.001       0.014       0.058\n",
       "x47            0.0053      0.012      0.458      0.647      -0.017       0.028\n",
       "x48           -0.0580      0.012     -4.895      0.000      -0.081      -0.035\n",
       "x49           -0.0715      0.012     -6.135      0.000      -0.094      -0.049\n",
       "x50           -0.1119      0.012     -9.506      0.000      -0.135      -0.089\n",
       "==============================================================================\n",
       "\n",
       "Possibly complete quasi-separation: A fraction 0.42 of observations can be\n",
       "perfectly predicted. This might indicate that there is complete\n",
       "quasi-separation. In this case some parameters will not be identified.\n",
       "\"\"\""
      ]
     },
     "execution_count": 22,
     "metadata": {},
     "output_type": "execute_result"
    }
   ],
   "source": [
    "logit.summary()"
   ]
  },
  {
   "cell_type": "markdown",
   "metadata": {},
   "source": [
    "We meet quasi-separation problem, where all p-values are small. Try logistic with LASSO. "
   ]
  },
  {
   "cell_type": "code",
   "execution_count": 23,
   "metadata": {},
   "outputs": [
    {
     "data": {
      "text/plain": [
       "regression_labels\n",
       "0.0    12619\n",
       "1.0     9213\n",
       "Name: count, dtype: int64"
      ]
     },
     "execution_count": 23,
     "metadata": {},
     "output_type": "execute_result"
    }
   ],
   "source": [
    "subclass_adata.obs['regression_labels'].value_counts()"
   ]
  },
  {
   "cell_type": "code",
   "execution_count": 24,
   "metadata": {},
   "outputs": [
    {
     "name": "stdout",
     "output_type": "stream",
     "text": [
      "Classification accuracy for 061 STR D1 Gaba: 0.8046903627702455\n",
      "Number of selected features: 8\n"
     ]
    }
   ],
   "source": [
    "C = 5e-5\n",
    "subclass_adata, lasso_logreg, important_features, acc = lasso_logistic_on_svd(\n",
    "                            subclass_adata, subclass_cells, regression_terms=['donor_age_category'], C=C\n",
    "                            )\n",
    "print(f\"Classification accuracy for {subclass_name}: {acc}\")\n",
    "print(f\"Number of selected features: {len(important_features)}\")"
   ]
  },
  {
   "cell_type": "code",
   "execution_count": 25,
   "metadata": {},
   "outputs": [
    {
     "data": {
      "text/plain": [
       "regression_labels\n",
       "0.0    12619\n",
       "1.0     9213\n",
       "Name: count, dtype: int64"
      ]
     },
     "execution_count": 25,
     "metadata": {},
     "output_type": "execute_result"
    }
   ],
   "source": [
    "subclass_adata.obs['regression_labels'].value_counts()"
   ]
  },
  {
   "cell_type": "markdown",
   "metadata": {},
   "source": [
    "Visualize the result with SHAP. "
   ]
  },
  {
   "cell_type": "code",
   "execution_count": 26,
   "metadata": {},
   "outputs": [
    {
     "data": {
      "image/png": "[encoded data removed]",
      "text/plain": [
       "<Figure size 400x400 with 2 Axes>"
      ]
     },
     "metadata": {},
     "output_type": "display_data"
    }
   ],
   "source": [
    "n_selected_features = len(important_features)\n",
    "shap_values = shap_importance_analysis(lasso_logreg, subclass_adata, max_display=n_selected_features)\n",
    "sorted_indices = order_loadings_by_shap(shap_values)\n",
    "selected_features = sorted_indices[:n_selected_features]\n",
    "loading_idx = [i-1 for i in selected_features]"
   ]
  },
  {
   "cell_type": "code",
   "execution_count": 27,
   "metadata": {},
   "outputs": [],
   "source": [
    "n_genes_per_pc=200\n",
    "degenes_detected_among_all, degenes_detected_among_extracted = detect_degenes_accumulated(\n",
    "                            subclass_adata, loading_idx, degenes_subclass['gene_symbol'], n_genes_per_pc=n_genes_per_pc\n",
    "                            )"
   ]
  },
  {
   "cell_type": "code",
   "execution_count": 28,
   "metadata": {},
   "outputs": [
    {
     "data": {
      "image/png": "[encoded data removed]",
      "text/plain": [
       "<Figure size 400x300 with 1 Axes>"
      ]
     },
     "metadata": {},
     "output_type": "display_data"
    }
   ],
   "source": [
    "plot_degene_trend(n_selected_features, degenes_detected_among_all, degenes_detected_among_extracted, acc, 'Medium DE gene counts', subclass_name)"
   ]
  },
  {
   "cell_type": "markdown",
   "metadata": {},
   "source": [
    "Analyze data from Vip Gaba subclass. "
   ]
  },
  {
   "cell_type": "code",
   "execution_count": 29,
   "metadata": {},
   "outputs": [
    {
     "name": "stderr",
     "output_type": "stream",
     "text": [
      "/opt/anaconda3/envs/rna/lib/python3.12/site-packages/scanpy/preprocessing/_pca.py:314: ImplicitModificationWarning: Setting element `.obsm['X_pca']` of view, initializing view as actual.\n",
      "  adata.obsm[key_obsm] = X_pca\n"
     ]
    }
   ],
   "source": [
    "# detect degenes by subclass\n",
    "\n",
    "subclass_name = aged_low[0]\n",
    "degenes_subclass = degenes[degenes['grouping_name'] == subclass_name]\n",
    "subclass_adata, subclass_cells = filter_cells_by_anaotation(adata, cell_extended, 'subclass_name', subclass_name)\n",
    "subclass_adata = filter_genes_by_expression(subclass_adata)\n",
    "sc.tl.pca(subclass_adata, n_comps=50)"
   ]
  },
  {
   "cell_type": "code",
   "execution_count": 30,
   "metadata": {},
   "outputs": [
    {
     "data": {
      "text/plain": [
       "AnnData object with n_obs × n_vars = 9205 × 11162\n",
       "    obs: 'cell_barcode', 'library_label', 'anatomical_division_label', 'alignment_job_id'\n",
       "    var: 'gene_symbol'\n",
       "    uns: 'pca'\n",
       "    obsm: 'X_pca'\n",
       "    varm: 'PCs'"
      ]
     },
     "execution_count": 30,
     "metadata": {},
     "output_type": "execute_result"
    }
   ],
   "source": [
    "subclass_adata"
   ]
  },
  {
   "cell_type": "markdown",
   "metadata": {},
   "source": [
    "Logistic regression without LASSO. "
   ]
  },
  {
   "cell_type": "code",
   "execution_count": 31,
   "metadata": {},
   "outputs": [
    {
     "name": "stdout",
     "output_type": "stream",
     "text": [
      "         Current function value: 0.162460\n",
      "         Iterations: 35\n",
      "         Function evaluations: 61\n",
      "         Gradient evaluations: 61\n",
      "Classification accuracy for 046 Vip Gaba: 0.9386203150461706\n"
     ]
    },
    {
     "name": "stderr",
     "output_type": "stream",
     "text": [
      "/opt/anaconda3/envs/rna/lib/python3.12/site-packages/scipy/optimize/_optimize.py:1680: OptimizeWarning: Maximum number of iterations has been exceeded.\n",
      "  res = _minimize_cg(f, x0, args, fprime, callback=callback, c1=c1, c2=c2,\n",
      "/opt/anaconda3/envs/rna/lib/python3.12/site-packages/statsmodels/base/model.py:607: ConvergenceWarning: Maximum Likelihood optimization failed to converge. Check mle_retvals\n",
      "  warnings.warn(\"Maximum Likelihood optimization failed to \"\n"
     ]
    }
   ],
   "source": [
    "_, logit, important_features_logit, acc_logit = logistic_regression(\n",
    "                        subclass_adata, subclass_cells, regression_terms=['donor_age_category'], alpha=0.10)\n",
    "print(f\"Classification accuracy for {subclass_name}: {acc_logit}\")"
   ]
  },
  {
   "cell_type": "code",
   "execution_count": 32,
   "metadata": {},
   "outputs": [
    {
     "data": {
      "text/html": [
       "<table class=\"simpletable\">\n",
       "<caption>Logit Regression Results</caption>\n",
       "<tr>\n",
       "  <th>Dep. Variable:</th>   <td>regression_labels</td> <th>  No. Observations:  </th>  <td>  9205</td> \n",
       "</tr>\n",
       "<tr>\n",
       "  <th>Model:</th>                 <td>Logit</td>       <th>  Df Residuals:      </th>  <td>  9154</td> \n",
       "</tr>\n",
       "<tr>\n",
       "  <th>Method:</th>                 <td>MLE</td>        <th>  Df Model:          </th>  <td>    50</td> \n",
       "</tr>\n",
       "<tr>\n",
       "  <th>Date:</th>            <td>Thu, 13 Mar 2025</td>  <th>  Pseudo R-squ.:     </th>  <td>0.7594</td> \n",
       "</tr>\n",
       "<tr>\n",
       "  <th>Time:</th>                <td>17:13:16</td>      <th>  Log-Likelihood:    </th> <td> -1495.4</td>\n",
       "</tr>\n",
       "<tr>\n",
       "  <th>converged:</th>             <td>False</td>       <th>  LL-Null:           </th> <td> -6215.9</td>\n",
       "</tr>\n",
       "<tr>\n",
       "  <th>Covariance Type:</th>     <td>nonrobust</td>     <th>  LLR p-value:       </th>  <td> 0.000</td> \n",
       "</tr>\n",
       "</table>\n",
       "<table class=\"simpletable\">\n",
       "<tr>\n",
       "    <td></td>       <th>coef</th>     <th>std err</th>      <th>z</th>      <th>P>|z|</th>  <th>[0.025</th>    <th>0.975]</th>  \n",
       "</tr>\n",
       "<tr>\n",
       "  <th>const</th> <td>    0.5675</td> <td>    0.048</td> <td>   11.878</td> <td> 0.000</td> <td>    0.474</td> <td>    0.661</td>\n",
       "</tr>\n",
       "<tr>\n",
       "  <th>x1</th>    <td>   -0.0188</td> <td>    0.001</td> <td>  -17.677</td> <td> 0.000</td> <td>   -0.021</td> <td>   -0.017</td>\n",
       "</tr>\n",
       "<tr>\n",
       "  <th>x2</th>    <td>    0.0001</td> <td>    0.001</td> <td>    0.083</td> <td> 0.934</td> <td>   -0.003</td> <td>    0.003</td>\n",
       "</tr>\n",
       "<tr>\n",
       "  <th>x3</th>    <td>   -0.0092</td> <td>    0.002</td> <td>   -5.177</td> <td> 0.000</td> <td>   -0.013</td> <td>   -0.006</td>\n",
       "</tr>\n",
       "<tr>\n",
       "  <th>x4</th>    <td>   -0.0012</td> <td>    0.002</td> <td>   -0.611</td> <td> 0.541</td> <td>   -0.005</td> <td>    0.003</td>\n",
       "</tr>\n",
       "<tr>\n",
       "  <th>x5</th>    <td>    0.0086</td> <td>    0.002</td> <td>    3.872</td> <td> 0.000</td> <td>    0.004</td> <td>    0.013</td>\n",
       "</tr>\n",
       "<tr>\n",
       "  <th>x6</th>    <td>   -0.0242</td> <td>    0.003</td> <td>   -8.346</td> <td> 0.000</td> <td>   -0.030</td> <td>   -0.019</td>\n",
       "</tr>\n",
       "<tr>\n",
       "  <th>x7</th>    <td>   -0.0297</td> <td>    0.003</td> <td>   -9.507</td> <td> 0.000</td> <td>   -0.036</td> <td>   -0.024</td>\n",
       "</tr>\n",
       "<tr>\n",
       "  <th>x8</th>    <td>   -0.0178</td> <td>    0.003</td> <td>   -5.917</td> <td> 0.000</td> <td>   -0.024</td> <td>   -0.012</td>\n",
       "</tr>\n",
       "<tr>\n",
       "  <th>x9</th>    <td>   -0.0446</td> <td>    0.004</td> <td>  -11.578</td> <td> 0.000</td> <td>   -0.052</td> <td>   -0.037</td>\n",
       "</tr>\n",
       "<tr>\n",
       "  <th>x10</th>   <td>   -0.1033</td> <td>    0.004</td> <td>  -23.748</td> <td> 0.000</td> <td>   -0.112</td> <td>   -0.095</td>\n",
       "</tr>\n",
       "<tr>\n",
       "  <th>x11</th>   <td>    0.0490</td> <td>    0.004</td> <td>   11.465</td> <td> 0.000</td> <td>    0.041</td> <td>    0.057</td>\n",
       "</tr>\n",
       "<tr>\n",
       "  <th>x12</th>   <td>   -0.1678</td> <td>    0.006</td> <td>  -28.977</td> <td> 0.000</td> <td>   -0.179</td> <td>   -0.156</td>\n",
       "</tr>\n",
       "<tr>\n",
       "  <th>x13</th>   <td>    0.0697</td> <td>    0.005</td> <td>   14.300</td> <td> 0.000</td> <td>    0.060</td> <td>    0.079</td>\n",
       "</tr>\n",
       "<tr>\n",
       "  <th>x14</th>   <td>   -0.0219</td> <td>    0.005</td> <td>   -4.753</td> <td> 0.000</td> <td>   -0.031</td> <td>   -0.013</td>\n",
       "</tr>\n",
       "<tr>\n",
       "  <th>x15</th>   <td>   -0.1017</td> <td>    0.006</td> <td>  -17.676</td> <td> 0.000</td> <td>   -0.113</td> <td>   -0.090</td>\n",
       "</tr>\n",
       "<tr>\n",
       "  <th>x16</th>   <td>    0.0910</td> <td>    0.005</td> <td>   16.967</td> <td> 0.000</td> <td>    0.081</td> <td>    0.102</td>\n",
       "</tr>\n",
       "<tr>\n",
       "  <th>x17</th>   <td>   -0.0739</td> <td>    0.006</td> <td>  -12.753</td> <td> 0.000</td> <td>   -0.085</td> <td>   -0.063</td>\n",
       "</tr>\n",
       "<tr>\n",
       "  <th>x18</th>   <td>    0.0576</td> <td>    0.006</td> <td>   10.382</td> <td> 0.000</td> <td>    0.047</td> <td>    0.068</td>\n",
       "</tr>\n",
       "<tr>\n",
       "  <th>x19</th>   <td>    0.0535</td> <td>    0.006</td> <td>    9.463</td> <td> 0.000</td> <td>    0.042</td> <td>    0.065</td>\n",
       "</tr>\n",
       "<tr>\n",
       "  <th>x20</th>   <td>    0.0055</td> <td>    0.006</td> <td>    0.965</td> <td> 0.335</td> <td>   -0.006</td> <td>    0.017</td>\n",
       "</tr>\n",
       "<tr>\n",
       "  <th>x21</th>   <td>   -0.0797</td> <td>    0.006</td> <td>  -12.558</td> <td> 0.000</td> <td>   -0.092</td> <td>   -0.067</td>\n",
       "</tr>\n",
       "<tr>\n",
       "  <th>x22</th>   <td>    0.0309</td> <td>    0.006</td> <td>    5.231</td> <td> 0.000</td> <td>    0.019</td> <td>    0.042</td>\n",
       "</tr>\n",
       "<tr>\n",
       "  <th>x23</th>   <td>    0.1098</td> <td>    0.007</td> <td>   16.865</td> <td> 0.000</td> <td>    0.097</td> <td>    0.123</td>\n",
       "</tr>\n",
       "<tr>\n",
       "  <th>x24</th>   <td>   -0.0938</td> <td>    0.007</td> <td>  -14.358</td> <td> 0.000</td> <td>   -0.107</td> <td>   -0.081</td>\n",
       "</tr>\n",
       "<tr>\n",
       "  <th>x25</th>   <td>   -0.4122</td> <td>    0.011</td> <td>  -37.544</td> <td> 0.000</td> <td>   -0.434</td> <td>   -0.391</td>\n",
       "</tr>\n",
       "<tr>\n",
       "  <th>x26</th>   <td>    0.0387</td> <td>    0.006</td> <td>    6.000</td> <td> 0.000</td> <td>    0.026</td> <td>    0.051</td>\n",
       "</tr>\n",
       "<tr>\n",
       "  <th>x27</th>   <td>   -0.2914</td> <td>    0.009</td> <td>  -31.839</td> <td> 0.000</td> <td>   -0.309</td> <td>   -0.273</td>\n",
       "</tr>\n",
       "<tr>\n",
       "  <th>x28</th>   <td>   -0.0582</td> <td>    0.007</td> <td>   -8.599</td> <td> 0.000</td> <td>   -0.071</td> <td>   -0.045</td>\n",
       "</tr>\n",
       "<tr>\n",
       "  <th>x29</th>   <td>    0.1436</td> <td>    0.008</td> <td>   18.211</td> <td> 0.000</td> <td>    0.128</td> <td>    0.159</td>\n",
       "</tr>\n",
       "<tr>\n",
       "  <th>x30</th>   <td>   -0.0677</td> <td>    0.007</td> <td>   -9.558</td> <td> 0.000</td> <td>   -0.082</td> <td>   -0.054</td>\n",
       "</tr>\n",
       "<tr>\n",
       "  <th>x31</th>   <td>    0.0603</td> <td>    0.007</td> <td>    8.391</td> <td> 0.000</td> <td>    0.046</td> <td>    0.074</td>\n",
       "</tr>\n",
       "<tr>\n",
       "  <th>x32</th>   <td>    0.0014</td> <td>    0.007</td> <td>    0.198</td> <td> 0.843</td> <td>   -0.013</td> <td>    0.016</td>\n",
       "</tr>\n",
       "<tr>\n",
       "  <th>x33</th>   <td>   -0.0909</td> <td>    0.007</td> <td>  -12.154</td> <td> 0.000</td> <td>   -0.106</td> <td>   -0.076</td>\n",
       "</tr>\n",
       "<tr>\n",
       "  <th>x34</th>   <td>    0.0442</td> <td>    0.008</td> <td>    5.782</td> <td> 0.000</td> <td>    0.029</td> <td>    0.059</td>\n",
       "</tr>\n",
       "<tr>\n",
       "  <th>x35</th>   <td>    0.0310</td> <td>    0.008</td> <td>    4.047</td> <td> 0.000</td> <td>    0.016</td> <td>    0.046</td>\n",
       "</tr>\n",
       "<tr>\n",
       "  <th>x36</th>   <td>   -0.0769</td> <td>    0.008</td> <td>   -9.898</td> <td> 0.000</td> <td>   -0.092</td> <td>   -0.062</td>\n",
       "</tr>\n",
       "<tr>\n",
       "  <th>x37</th>   <td>    0.0270</td> <td>    0.008</td> <td>    3.434</td> <td> 0.001</td> <td>    0.012</td> <td>    0.042</td>\n",
       "</tr>\n",
       "<tr>\n",
       "  <th>x38</th>   <td>   -0.0247</td> <td>    0.008</td> <td>   -3.150</td> <td> 0.002</td> <td>   -0.040</td> <td>   -0.009</td>\n",
       "</tr>\n",
       "<tr>\n",
       "  <th>x39</th>   <td>   -0.0643</td> <td>    0.008</td> <td>   -7.795</td> <td> 0.000</td> <td>   -0.080</td> <td>   -0.048</td>\n",
       "</tr>\n",
       "<tr>\n",
       "  <th>x40</th>   <td>   -0.0676</td> <td>    0.008</td> <td>   -8.290</td> <td> 0.000</td> <td>   -0.084</td> <td>   -0.052</td>\n",
       "</tr>\n",
       "<tr>\n",
       "  <th>x41</th>   <td>   -0.0372</td> <td>    0.008</td> <td>   -4.662</td> <td> 0.000</td> <td>   -0.053</td> <td>   -0.022</td>\n",
       "</tr>\n",
       "<tr>\n",
       "  <th>x42</th>   <td>    0.0520</td> <td>    0.008</td> <td>    6.378</td> <td> 0.000</td> <td>    0.036</td> <td>    0.068</td>\n",
       "</tr>\n",
       "<tr>\n",
       "  <th>x43</th>   <td>   -0.0017</td> <td>    0.008</td> <td>   -0.211</td> <td> 0.833</td> <td>   -0.018</td> <td>    0.014</td>\n",
       "</tr>\n",
       "<tr>\n",
       "  <th>x44</th>   <td>   -0.0316</td> <td>    0.008</td> <td>   -3.852</td> <td> 0.000</td> <td>   -0.048</td> <td>   -0.016</td>\n",
       "</tr>\n",
       "<tr>\n",
       "  <th>x45</th>   <td>    0.0142</td> <td>    0.008</td> <td>    1.736</td> <td> 0.083</td> <td>   -0.002</td> <td>    0.030</td>\n",
       "</tr>\n",
       "<tr>\n",
       "  <th>x46</th>   <td>    0.0855</td> <td>    0.008</td> <td>   10.303</td> <td> 0.000</td> <td>    0.069</td> <td>    0.102</td>\n",
       "</tr>\n",
       "<tr>\n",
       "  <th>x47</th>   <td>    0.0272</td> <td>    0.008</td> <td>    3.299</td> <td> 0.001</td> <td>    0.011</td> <td>    0.043</td>\n",
       "</tr>\n",
       "<tr>\n",
       "  <th>x48</th>   <td>    0.0491</td> <td>    0.008</td> <td>    5.813</td> <td> 0.000</td> <td>    0.033</td> <td>    0.066</td>\n",
       "</tr>\n",
       "<tr>\n",
       "  <th>x49</th>   <td>    0.0013</td> <td>    0.008</td> <td>    0.160</td> <td> 0.873</td> <td>   -0.015</td> <td>    0.018</td>\n",
       "</tr>\n",
       "<tr>\n",
       "  <th>x50</th>   <td>   -0.0148</td> <td>    0.008</td> <td>   -1.756</td> <td> 0.079</td> <td>   -0.031</td> <td>    0.002</td>\n",
       "</tr>\n",
       "</table>"
      ],
      "text/latex": [
       "\\begin{center}\n",
       "\\begin{tabular}{lclc}\n",
       "\\toprule\n",
       "\\textbf{Dep. Variable:}   & regression\\_labels & \\textbf{  No. Observations:  } &     9205    \\\\\n",
       "\\textbf{Model:}           &       Logit        & \\textbf{  Df Residuals:      } &     9154    \\\\\n",
       "\\textbf{Method:}          &        MLE         & \\textbf{  Df Model:          } &       50    \\\\\n",
       "\\textbf{Date:}            &  Thu, 13 Mar 2025  & \\textbf{  Pseudo R-squ.:     } &   0.7594    \\\\\n",
       "\\textbf{Time:}            &      17:13:16      & \\textbf{  Log-Likelihood:    } &   -1495.4   \\\\\n",
       "\\textbf{converged:}       &       False        & \\textbf{  LL-Null:           } &   -6215.9   \\\\\n",
       "\\textbf{Covariance Type:} &     nonrobust      & \\textbf{  LLR p-value:       } &    0.000    \\\\\n",
       "\\bottomrule\n",
       "\\end{tabular}\n",
       "\\begin{tabular}{lcccccc}\n",
       "               & \\textbf{coef} & \\textbf{std err} & \\textbf{z} & \\textbf{P$> |$z$|$} & \\textbf{[0.025} & \\textbf{0.975]}  \\\\\n",
       "\\midrule\n",
       "\\textbf{const} &       0.5675  &        0.048     &    11.878  &         0.000        &        0.474    &        0.661     \\\\\n",
       "\\textbf{x1}    &      -0.0188  &        0.001     &   -17.677  &         0.000        &       -0.021    &       -0.017     \\\\\n",
       "\\textbf{x2}    &       0.0001  &        0.001     &     0.083  &         0.934        &       -0.003    &        0.003     \\\\\n",
       "\\textbf{x3}    &      -0.0092  &        0.002     &    -5.177  &         0.000        &       -0.013    &       -0.006     \\\\\n",
       "\\textbf{x4}    &      -0.0012  &        0.002     &    -0.611  &         0.541        &       -0.005    &        0.003     \\\\\n",
       "\\textbf{x5}    &       0.0086  &        0.002     &     3.872  &         0.000        &        0.004    &        0.013     \\\\\n",
       "\\textbf{x6}    &      -0.0242  &        0.003     &    -8.346  &         0.000        &       -0.030    &       -0.019     \\\\\n",
       "\\textbf{x7}    &      -0.0297  &        0.003     &    -9.507  &         0.000        &       -0.036    &       -0.024     \\\\\n",
       "\\textbf{x8}    &      -0.0178  &        0.003     &    -5.917  &         0.000        &       -0.024    &       -0.012     \\\\\n",
       "\\textbf{x9}    &      -0.0446  &        0.004     &   -11.578  &         0.000        &       -0.052    &       -0.037     \\\\\n",
       "\\textbf{x10}   &      -0.1033  &        0.004     &   -23.748  &         0.000        &       -0.112    &       -0.095     \\\\\n",
       "\\textbf{x11}   &       0.0490  &        0.004     &    11.465  &         0.000        &        0.041    &        0.057     \\\\\n",
       "\\textbf{x12}   &      -0.1678  &        0.006     &   -28.977  &         0.000        &       -0.179    &       -0.156     \\\\\n",
       "\\textbf{x13}   &       0.0697  &        0.005     &    14.300  &         0.000        &        0.060    &        0.079     \\\\\n",
       "\\textbf{x14}   &      -0.0219  &        0.005     &    -4.753  &         0.000        &       -0.031    &       -0.013     \\\\\n",
       "\\textbf{x15}   &      -0.1017  &        0.006     &   -17.676  &         0.000        &       -0.113    &       -0.090     \\\\\n",
       "\\textbf{x16}   &       0.0910  &        0.005     &    16.967  &         0.000        &        0.081    &        0.102     \\\\\n",
       "\\textbf{x17}   &      -0.0739  &        0.006     &   -12.753  &         0.000        &       -0.085    &       -0.063     \\\\\n",
       "\\textbf{x18}   &       0.0576  &        0.006     &    10.382  &         0.000        &        0.047    &        0.068     \\\\\n",
       "\\textbf{x19}   &       0.0535  &        0.006     &     9.463  &         0.000        &        0.042    &        0.065     \\\\\n",
       "\\textbf{x20}   &       0.0055  &        0.006     &     0.965  &         0.335        &       -0.006    &        0.017     \\\\\n",
       "\\textbf{x21}   &      -0.0797  &        0.006     &   -12.558  &         0.000        &       -0.092    &       -0.067     \\\\\n",
       "\\textbf{x22}   &       0.0309  &        0.006     &     5.231  &         0.000        &        0.019    &        0.042     \\\\\n",
       "\\textbf{x23}   &       0.1098  &        0.007     &    16.865  &         0.000        &        0.097    &        0.123     \\\\\n",
       "\\textbf{x24}   &      -0.0938  &        0.007     &   -14.358  &         0.000        &       -0.107    &       -0.081     \\\\\n",
       "\\textbf{x25}   &      -0.4122  &        0.011     &   -37.544  &         0.000        &       -0.434    &       -0.391     \\\\\n",
       "\\textbf{x26}   &       0.0387  &        0.006     &     6.000  &         0.000        &        0.026    &        0.051     \\\\\n",
       "\\textbf{x27}   &      -0.2914  &        0.009     &   -31.839  &         0.000        &       -0.309    &       -0.273     \\\\\n",
       "\\textbf{x28}   &      -0.0582  &        0.007     &    -8.599  &         0.000        &       -0.071    &       -0.045     \\\\\n",
       "\\textbf{x29}   &       0.1436  &        0.008     &    18.211  &         0.000        &        0.128    &        0.159     \\\\\n",
       "\\textbf{x30}   &      -0.0677  &        0.007     &    -9.558  &         0.000        &       -0.082    &       -0.054     \\\\\n",
       "\\textbf{x31}   &       0.0603  &        0.007     &     8.391  &         0.000        &        0.046    &        0.074     \\\\\n",
       "\\textbf{x32}   &       0.0014  &        0.007     &     0.198  &         0.843        &       -0.013    &        0.016     \\\\\n",
       "\\textbf{x33}   &      -0.0909  &        0.007     &   -12.154  &         0.000        &       -0.106    &       -0.076     \\\\\n",
       "\\textbf{x34}   &       0.0442  &        0.008     &     5.782  &         0.000        &        0.029    &        0.059     \\\\\n",
       "\\textbf{x35}   &       0.0310  &        0.008     &     4.047  &         0.000        &        0.016    &        0.046     \\\\\n",
       "\\textbf{x36}   &      -0.0769  &        0.008     &    -9.898  &         0.000        &       -0.092    &       -0.062     \\\\\n",
       "\\textbf{x37}   &       0.0270  &        0.008     &     3.434  &         0.001        &        0.012    &        0.042     \\\\\n",
       "\\textbf{x38}   &      -0.0247  &        0.008     &    -3.150  &         0.002        &       -0.040    &       -0.009     \\\\\n",
       "\\textbf{x39}   &      -0.0643  &        0.008     &    -7.795  &         0.000        &       -0.080    &       -0.048     \\\\\n",
       "\\textbf{x40}   &      -0.0676  &        0.008     &    -8.290  &         0.000        &       -0.084    &       -0.052     \\\\\n",
       "\\textbf{x41}   &      -0.0372  &        0.008     &    -4.662  &         0.000        &       -0.053    &       -0.022     \\\\\n",
       "\\textbf{x42}   &       0.0520  &        0.008     &     6.378  &         0.000        &        0.036    &        0.068     \\\\\n",
       "\\textbf{x43}   &      -0.0017  &        0.008     &    -0.211  &         0.833        &       -0.018    &        0.014     \\\\\n",
       "\\textbf{x44}   &      -0.0316  &        0.008     &    -3.852  &         0.000        &       -0.048    &       -0.016     \\\\\n",
       "\\textbf{x45}   &       0.0142  &        0.008     &     1.736  &         0.083        &       -0.002    &        0.030     \\\\\n",
       "\\textbf{x46}   &       0.0855  &        0.008     &    10.303  &         0.000        &        0.069    &        0.102     \\\\\n",
       "\\textbf{x47}   &       0.0272  &        0.008     &     3.299  &         0.001        &        0.011    &        0.043     \\\\\n",
       "\\textbf{x48}   &       0.0491  &        0.008     &     5.813  &         0.000        &        0.033    &        0.066     \\\\\n",
       "\\textbf{x49}   &       0.0013  &        0.008     &     0.160  &         0.873        &       -0.015    &        0.018     \\\\\n",
       "\\textbf{x50}   &      -0.0148  &        0.008     &    -1.756  &         0.079        &       -0.031    &        0.002     \\\\\n",
       "\\bottomrule\n",
       "\\end{tabular}\n",
       "%\\caption{Logit Regression Results}\n",
       "\\end{center}"
      ],
      "text/plain": [
       "<class 'statsmodels.iolib.summary.Summary'>\n",
       "\"\"\"\n",
       "                           Logit Regression Results                           \n",
       "==============================================================================\n",
       "Dep. Variable:      regression_labels   No. Observations:                 9205\n",
       "Model:                          Logit   Df Residuals:                     9154\n",
       "Method:                           MLE   Df Model:                           50\n",
       "Date:                Thu, 13 Mar 2025   Pseudo R-squ.:                  0.7594\n",
       "Time:                        17:13:16   Log-Likelihood:                -1495.4\n",
       "converged:                      False   LL-Null:                       -6215.9\n",
       "Covariance Type:            nonrobust   LLR p-value:                     0.000\n",
       "==============================================================================\n",
       "                 coef    std err          z      P>|z|      [0.025      0.975]\n",
       "------------------------------------------------------------------------------\n",
       "const          0.5675      0.048     11.878      0.000       0.474       0.661\n",
       "x1            -0.0188      0.001    -17.677      0.000      -0.021      -0.017\n",
       "x2             0.0001      0.001      0.083      0.934      -0.003       0.003\n",
       "x3            -0.0092      0.002     -5.177      0.000      -0.013      -0.006\n",
       "x4            -0.0012      0.002     -0.611      0.541      -0.005       0.003\n",
       "x5             0.0086      0.002      3.872      0.000       0.004       0.013\n",
       "x6            -0.0242      0.003     -8.346      0.000      -0.030      -0.019\n",
       "x7            -0.0297      0.003     -9.507      0.000      -0.036      -0.024\n",
       "x8            -0.0178      0.003     -5.917      0.000      -0.024      -0.012\n",
       "x9            -0.0446      0.004    -11.578      0.000      -0.052      -0.037\n",
       "x10           -0.1033      0.004    -23.748      0.000      -0.112      -0.095\n",
       "x11            0.0490      0.004     11.465      0.000       0.041       0.057\n",
       "x12           -0.1678      0.006    -28.977      0.000      -0.179      -0.156\n",
       "x13            0.0697      0.005     14.300      0.000       0.060       0.079\n",
       "x14           -0.0219      0.005     -4.753      0.000      -0.031      -0.013\n",
       "x15           -0.1017      0.006    -17.676      0.000      -0.113      -0.090\n",
       "x16            0.0910      0.005     16.967      0.000       0.081       0.102\n",
       "x17           -0.0739      0.006    -12.753      0.000      -0.085      -0.063\n",
       "x18            0.0576      0.006     10.382      0.000       0.047       0.068\n",
       "x19            0.0535      0.006      9.463      0.000       0.042       0.065\n",
       "x20            0.0055      0.006      0.965      0.335      -0.006       0.017\n",
       "x21           -0.0797      0.006    -12.558      0.000      -0.092      -0.067\n",
       "x22            0.0309      0.006      5.231      0.000       0.019       0.042\n",
       "x23            0.1098      0.007     16.865      0.000       0.097       0.123\n",
       "x24           -0.0938      0.007    -14.358      0.000      -0.107      -0.081\n",
       "x25           -0.4122      0.011    -37.544      0.000      -0.434      -0.391\n",
       "x26            0.0387      0.006      6.000      0.000       0.026       0.051\n",
       "x27           -0.2914      0.009    -31.839      0.000      -0.309      -0.273\n",
       "x28           -0.0582      0.007     -8.599      0.000      -0.071      -0.045\n",
       "x29            0.1436      0.008     18.211      0.000       0.128       0.159\n",
       "x30           -0.0677      0.007     -9.558      0.000      -0.082      -0.054\n",
       "x31            0.0603      0.007      8.391      0.000       0.046       0.074\n",
       "x32            0.0014      0.007      0.198      0.843      -0.013       0.016\n",
       "x33           -0.0909      0.007    -12.154      0.000      -0.106      -0.076\n",
       "x34            0.0442      0.008      5.782      0.000       0.029       0.059\n",
       "x35            0.0310      0.008      4.047      0.000       0.016       0.046\n",
       "x36           -0.0769      0.008     -9.898      0.000      -0.092      -0.062\n",
       "x37            0.0270      0.008      3.434      0.001       0.012       0.042\n",
       "x38           -0.0247      0.008     -3.150      0.002      -0.040      -0.009\n",
       "x39           -0.0643      0.008     -7.795      0.000      -0.080      -0.048\n",
       "x40           -0.0676      0.008     -8.290      0.000      -0.084      -0.052\n",
       "x41           -0.0372      0.008     -4.662      0.000      -0.053      -0.022\n",
       "x42            0.0520      0.008      6.378      0.000       0.036       0.068\n",
       "x43           -0.0017      0.008     -0.211      0.833      -0.018       0.014\n",
       "x44           -0.0316      0.008     -3.852      0.000      -0.048      -0.016\n",
       "x45            0.0142      0.008      1.736      0.083      -0.002       0.030\n",
       "x46            0.0855      0.008     10.303      0.000       0.069       0.102\n",
       "x47            0.0272      0.008      3.299      0.001       0.011       0.043\n",
       "x48            0.0491      0.008      5.813      0.000       0.033       0.066\n",
       "x49            0.0013      0.008      0.160      0.873      -0.015       0.018\n",
       "x50           -0.0148      0.008     -1.756      0.079      -0.031       0.002\n",
       "==============================================================================\n",
       "\"\"\""
      ]
     },
     "execution_count": 32,
     "metadata": {},
     "output_type": "execute_result"
    }
   ],
   "source": [
    "logit.summary()"
   ]
  },
  {
   "cell_type": "markdown",
   "metadata": {},
   "source": [
    "We meet quasi-separation problem, where all p-values are small. Try logistic with LASSO. "
   ]
  },
  {
   "cell_type": "code",
   "execution_count": 33,
   "metadata": {},
   "outputs": [
    {
     "data": {
      "text/plain": [
       "regression_labels\n",
       "1.0    5470\n",
       "0.0    3735\n",
       "Name: count, dtype: int64"
      ]
     },
     "execution_count": 33,
     "metadata": {},
     "output_type": "execute_result"
    }
   ],
   "source": [
    "subclass_adata.obs['regression_labels'].value_counts()"
   ]
  },
  {
   "cell_type": "code",
   "execution_count": 34,
   "metadata": {},
   "outputs": [
    {
     "name": "stdout",
     "output_type": "stream",
     "text": [
      "Classification accuracy for 046 Vip Gaba: 0.8334600760456273\n",
      "Number of selected features: 7\n"
     ]
    }
   ],
   "source": [
    "C = 2e-4\n",
    "subclass_adata, lasso_logreg, important_features, acc = lasso_logistic_on_svd(\n",
    "                            subclass_adata, subclass_cells, regression_terms=['donor_age_category'], C=C\n",
    "                            )\n",
    "print(f\"Classification accuracy for {subclass_name}: {acc}\")\n",
    "print(f\"Number of selected features: {len(important_features)}\")"
   ]
  },
  {
   "cell_type": "markdown",
   "metadata": {},
   "source": [
    "Visualize the result with SHAP. "
   ]
  },
  {
   "cell_type": "code",
   "execution_count": 35,
   "metadata": {},
   "outputs": [
    {
     "data": {
      "image/png": "[encoded data removed]",
      "text/plain": [
       "<Figure size 400x400 with 2 Axes>"
      ]
     },
     "metadata": {},
     "output_type": "display_data"
    }
   ],
   "source": [
    "n_selected_features = len(important_features)\n",
    "shap_values = shap_importance_analysis(lasso_logreg, subclass_adata, max_display=n_selected_features)\n",
    "sorted_indices = order_loadings_by_shap(shap_values)\n",
    "selected_features = sorted_indices[:n_selected_features]\n",
    "loading_idx = [i-1 for i in selected_features]"
   ]
  },
  {
   "cell_type": "code",
   "execution_count": 36,
   "metadata": {},
   "outputs": [],
   "source": [
    "n_genes_per_pc=200\n",
    "degenes_detected_among_all, degenes_detected_among_extracted = detect_degenes_accumulated(\n",
    "                            subclass_adata, loading_idx, degenes_subclass['gene_symbol'], n_genes_per_pc=n_genes_per_pc\n",
    "                            )"
   ]
  },
  {
   "cell_type": "code",
   "execution_count": 37,
   "metadata": {},
   "outputs": [
    {
     "data": {
      "image/png": "[encoded data removed]",
      "text/plain": [
       "<Figure size 400x300 with 1 Axes>"
      ]
     },
     "metadata": {},
     "output_type": "display_data"
    }
   ],
   "source": [
    "plot_degene_trend(n_selected_features, degenes_detected_among_all, degenes_detected_among_extracted, acc, 'Low DE gene counts', subclass_name)"
   ]
  }
 ],
 "metadata": {
  "kernelspec": {
   "display_name": "rna",
   "language": "python",
   "name": "python3"
  },
  "language_info": {
   "codemirror_mode": {
    "name": "ipython",
    "version": 3
   },
   "file_extension": ".py",
   "mimetype": "text/x-python",
   "name": "python",
   "nbconvert_exporter": "python",
   "pygments_lexer": "ipython3",
   "version": "3.12.9"
  }
 },
 "nbformat": 4,
 "nbformat_minor": 2
}
