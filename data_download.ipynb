{
 "cells": [
  {
   "cell_type": "code",
   "execution_count": 1,
   "metadata": {},
   "outputs": [
    {
     "name": "stdout",
     "output_type": "stream",
     "text": [
      "Collecting abc_atlas_access@ git+https://github.com/alleninstitute/abc_atlas_access.git (from abc_atlas_access[notebooks]@ git+https://github.com/alleninstitute/abc_atlas_access.git)\n",
      "  Cloning https://github.com/alleninstitute/abc_atlas_access.git to /tmp/pip-install-chl_sy1b/abc-atlas-access_a80f83e18af44e948879fbbc5f389cc3\n",
      "  Running command git clone --filter=blob:none --quiet https://github.com/alleninstitute/abc_atlas_access.git /tmp/pip-install-chl_sy1b/abc-atlas-access_a80f83e18af44e948879fbbc5f389cc3\n",
      "  Resolved https://github.com/alleninstitute/abc_atlas_access.git to commit d574b2e55379f616cae82f9427fa6c752ea4f09f\n",
      "  Installing build dependencies ... \u001b[?25ldone\n",
      "\u001b[?25h  Getting requirements to build wheel ... \u001b[?25ldone\n",
      "\u001b[?25h  Preparing metadata (pyproject.toml) ... \u001b[?25ldone\n",
      "\u001b[?25hRequirement already satisfied: anndata in /opt/conda/lib/python3.11/site-packages (from abc_atlas_access@ git+https://github.com/alleninstitute/abc_atlas_access.git->abc_atlas_access[notebooks]@ git+https://github.com/alleninstitute/abc_atlas_access.git) (0.11.3)\n",
      "Collecting boto3 (from abc_atlas_access@ git+https://github.com/alleninstitute/abc_atlas_access.git->abc_atlas_access[notebooks]@ git+https://github.com/alleninstitute/abc_atlas_access.git)\n",
      "  Downloading boto3-1.37.7-py3-none-any.whl.metadata (6.6 kB)\n",
      "Requirement already satisfied: numpy in /opt/conda/lib/python3.11/site-packages (from abc_atlas_access@ git+https://github.com/alleninstitute/abc_atlas_access.git->abc_atlas_access[notebooks]@ git+https://github.com/alleninstitute/abc_atlas_access.git) (1.25.2)\n",
      "Requirement already satisfied: pandas in /opt/conda/lib/python3.11/site-packages (from abc_atlas_access@ git+https://github.com/alleninstitute/abc_atlas_access.git->abc_atlas_access[notebooks]@ git+https://github.com/alleninstitute/abc_atlas_access.git) (2.2.3)\n",
      "Collecting pydantic (from abc_atlas_access@ git+https://github.com/alleninstitute/abc_atlas_access.git->abc_atlas_access[notebooks]@ git+https://github.com/alleninstitute/abc_atlas_access.git)\n",
      "  Downloading pydantic-2.10.6-py3-none-any.whl.metadata (30 kB)\n",
      "Requirement already satisfied: tqdm in /opt/conda/lib/python3.11/site-packages (from abc_atlas_access@ git+https://github.com/alleninstitute/abc_atlas_access.git->abc_atlas_access[notebooks]@ git+https://github.com/alleninstitute/abc_atlas_access.git) (4.66.5)\n",
      "Requirement already satisfied: matplotlib in /opt/conda/lib/python3.11/site-packages (from abc_atlas_access@ git+https://github.com/alleninstitute/abc_atlas_access.git->abc_atlas_access[notebooks]@ git+https://github.com/alleninstitute/abc_atlas_access.git) (3.10.0)\n",
      "Requirement already satisfied: scipy in /opt/conda/lib/python3.11/site-packages (from abc_atlas_access@ git+https://github.com/alleninstitute/abc_atlas_access.git->abc_atlas_access[notebooks]@ git+https://github.com/alleninstitute/abc_atlas_access.git) (1.15.2)\n",
      "Collecting simpleitk (from abc_atlas_access@ git+https://github.com/alleninstitute/abc_atlas_access.git->abc_atlas_access[notebooks]@ git+https://github.com/alleninstitute/abc_atlas_access.git)\n",
      "  Downloading SimpleITK-2.4.1-cp311-abi3-manylinux_2_17_x86_64.manylinux2014_x86_64.whl.metadata (7.9 kB)\n",
      "Requirement already satisfied: array-api-compat!=1.5,>1.4 in /opt/conda/lib/python3.11/site-packages (from anndata->abc_atlas_access@ git+https://github.com/alleninstitute/abc_atlas_access.git->abc_atlas_access[notebooks]@ git+https://github.com/alleninstitute/abc_atlas_access.git) (1.11)\n",
      "Requirement already satisfied: h5py>=3.7 in /opt/conda/lib/python3.11/site-packages (from anndata->abc_atlas_access@ git+https://github.com/alleninstitute/abc_atlas_access.git->abc_atlas_access[notebooks]@ git+https://github.com/alleninstitute/abc_atlas_access.git) (3.13.0)\n",
      "Requirement already satisfied: natsort in /opt/conda/lib/python3.11/site-packages (from anndata->abc_atlas_access@ git+https://github.com/alleninstitute/abc_atlas_access.git->abc_atlas_access[notebooks]@ git+https://github.com/alleninstitute/abc_atlas_access.git) (8.4.0)\n",
      "Requirement already satisfied: packaging>=20.0 in /opt/conda/lib/python3.11/site-packages (from anndata->abc_atlas_access@ git+https://github.com/alleninstitute/abc_atlas_access.git->abc_atlas_access[notebooks]@ git+https://github.com/alleninstitute/abc_atlas_access.git) (24.1)\n",
      "Requirement already satisfied: python-dateutil>=2.8.2 in /opt/conda/lib/python3.11/site-packages (from pandas->abc_atlas_access@ git+https://github.com/alleninstitute/abc_atlas_access.git->abc_atlas_access[notebooks]@ git+https://github.com/alleninstitute/abc_atlas_access.git) (2.9.0.post0)\n",
      "Requirement already satisfied: pytz>=2020.1 in /opt/conda/lib/python3.11/site-packages (from pandas->abc_atlas_access@ git+https://github.com/alleninstitute/abc_atlas_access.git->abc_atlas_access[notebooks]@ git+https://github.com/alleninstitute/abc_atlas_access.git) (2024.1)\n",
      "Requirement already satisfied: tzdata>=2022.7 in /opt/conda/lib/python3.11/site-packages (from pandas->abc_atlas_access@ git+https://github.com/alleninstitute/abc_atlas_access.git->abc_atlas_access[notebooks]@ git+https://github.com/alleninstitute/abc_atlas_access.git) (2025.1)\n",
      "Collecting botocore<1.38.0,>=1.37.7 (from boto3->abc_atlas_access@ git+https://github.com/alleninstitute/abc_atlas_access.git->abc_atlas_access[notebooks]@ git+https://github.com/alleninstitute/abc_atlas_access.git)\n",
      "  Downloading botocore-1.37.7-py3-none-any.whl.metadata (5.7 kB)\n",
      "Collecting jmespath<2.0.0,>=0.7.1 (from boto3->abc_atlas_access@ git+https://github.com/alleninstitute/abc_atlas_access.git->abc_atlas_access[notebooks]@ git+https://github.com/alleninstitute/abc_atlas_access.git)\n",
      "  Downloading jmespath-1.0.1-py3-none-any.whl.metadata (7.6 kB)\n",
      "Collecting s3transfer<0.12.0,>=0.11.0 (from boto3->abc_atlas_access@ git+https://github.com/alleninstitute/abc_atlas_access.git->abc_atlas_access[notebooks]@ git+https://github.com/alleninstitute/abc_atlas_access.git)\n",
      "  Downloading s3transfer-0.11.4-py3-none-any.whl.metadata (1.7 kB)\n",
      "Requirement already satisfied: contourpy>=1.0.1 in /opt/conda/lib/python3.11/site-packages (from matplotlib->abc_atlas_access@ git+https://github.com/alleninstitute/abc_atlas_access.git->abc_atlas_access[notebooks]@ git+https://github.com/alleninstitute/abc_atlas_access.git) (1.3.1)\n",
      "Requirement already satisfied: cycler>=0.10 in /opt/conda/lib/python3.11/site-packages (from matplotlib->abc_atlas_access@ git+https://github.com/alleninstitute/abc_atlas_access.git->abc_atlas_access[notebooks]@ git+https://github.com/alleninstitute/abc_atlas_access.git) (0.12.1)\n",
      "Requirement already satisfied: fonttools>=4.22.0 in /opt/conda/lib/python3.11/site-packages (from matplotlib->abc_atlas_access@ git+https://github.com/alleninstitute/abc_atlas_access.git->abc_atlas_access[notebooks]@ git+https://github.com/alleninstitute/abc_atlas_access.git) (4.56.0)\n",
      "Requirement already satisfied: kiwisolver>=1.3.1 in /opt/conda/lib/python3.11/site-packages (from matplotlib->abc_atlas_access@ git+https://github.com/alleninstitute/abc_atlas_access.git->abc_atlas_access[notebooks]@ git+https://github.com/alleninstitute/abc_atlas_access.git) (1.4.7)\n",
      "Requirement already satisfied: pillow>=8 in /opt/conda/lib/python3.11/site-packages (from matplotlib->abc_atlas_access@ git+https://github.com/alleninstitute/abc_atlas_access.git->abc_atlas_access[notebooks]@ git+https://github.com/alleninstitute/abc_atlas_access.git) (11.1.0)\n",
      "Requirement already satisfied: pyparsing>=2.3.1 in /opt/conda/lib/python3.11/site-packages (from matplotlib->abc_atlas_access@ git+https://github.com/alleninstitute/abc_atlas_access.git->abc_atlas_access[notebooks]@ git+https://github.com/alleninstitute/abc_atlas_access.git) (3.2.1)\n",
      "Collecting annotated-types>=0.6.0 (from pydantic->abc_atlas_access@ git+https://github.com/alleninstitute/abc_atlas_access.git->abc_atlas_access[notebooks]@ git+https://github.com/alleninstitute/abc_atlas_access.git)\n",
      "  Downloading annotated_types-0.7.0-py3-none-any.whl.metadata (15 kB)\n",
      "Collecting pydantic-core==2.27.2 (from pydantic->abc_atlas_access@ git+https://github.com/alleninstitute/abc_atlas_access.git->abc_atlas_access[notebooks]@ git+https://github.com/alleninstitute/abc_atlas_access.git)\n",
      "  Downloading pydantic_core-2.27.2-cp311-cp311-manylinux_2_17_x86_64.manylinux2014_x86_64.whl.metadata (6.6 kB)\n",
      "Requirement already satisfied: typing-extensions>=4.12.2 in /opt/conda/lib/python3.11/site-packages (from pydantic->abc_atlas_access@ git+https://github.com/alleninstitute/abc_atlas_access.git->abc_atlas_access[notebooks]@ git+https://github.com/alleninstitute/abc_atlas_access.git) (4.12.2)\n",
      "Requirement already satisfied: urllib3!=2.2.0,<3,>=1.25.4 in /opt/conda/lib/python3.11/site-packages (from botocore<1.38.0,>=1.37.7->boto3->abc_atlas_access@ git+https://github.com/alleninstitute/abc_atlas_access.git->abc_atlas_access[notebooks]@ git+https://github.com/alleninstitute/abc_atlas_access.git) (2.2.2)\n",
      "Requirement already satisfied: six>=1.5 in /opt/conda/lib/python3.11/site-packages (from python-dateutil>=2.8.2->pandas->abc_atlas_access@ git+https://github.com/alleninstitute/abc_atlas_access.git->abc_atlas_access[notebooks]@ git+https://github.com/alleninstitute/abc_atlas_access.git) (1.17.0)\n",
      "Downloading boto3-1.37.7-py3-none-any.whl (139 kB)\n",
      "Downloading pydantic-2.10.6-py3-none-any.whl (431 kB)\n",
      "Downloading pydantic_core-2.27.2-cp311-cp311-manylinux_2_17_x86_64.manylinux2014_x86_64.whl (2.0 MB)\n",
      "\u001b[2K   \u001b[90m━━━━━━━━━━━━━━━━━━━━━━━━━━━━━━━━━━━━━━━━\u001b[0m \u001b[32m2.0/2.0 MB\u001b[0m \u001b[31m298.7 MB/s\u001b[0m eta \u001b[36m0:00:00\u001b[0m\n",
      "\u001b[?25hDownloading SimpleITK-2.4.1-cp311-abi3-manylinux_2_17_x86_64.manylinux2014_x86_64.whl (52.3 MB)\n",
      "\u001b[2K   \u001b[90m━━━━━━━━━━━━━━━━━━━━━━━━━━━━━━━━━━━━━━━━\u001b[0m \u001b[32m52.3/52.3 MB\u001b[0m \u001b[31m250.6 MB/s\u001b[0m eta \u001b[36m0:00:00\u001b[0ma \u001b[36m0:00:01\u001b[0m\n",
      "\u001b[?25hDownloading annotated_types-0.7.0-py3-none-any.whl (13 kB)\n",
      "Downloading botocore-1.37.7-py3-none-any.whl (13.4 MB)\n",
      "\u001b[2K   \u001b[90m━━━━━━━━━━━━━━━━━━━━━━━━━━━━━━━━━━━━━━━━\u001b[0m \u001b[32m13.4/13.4 MB\u001b[0m \u001b[31m328.1 MB/s\u001b[0m eta \u001b[36m0:00:00\u001b[0m\n",
      "\u001b[?25hDownloading jmespath-1.0.1-py3-none-any.whl (20 kB)\n",
      "Downloading s3transfer-0.11.4-py3-none-any.whl (84 kB)\n",
      "Building wheels for collected packages: abc_atlas_access\n",
      "  Building wheel for abc_atlas_access (pyproject.toml) ... \u001b[?25ldone\n",
      "\u001b[?25h  Created wheel for abc_atlas_access: filename=abc_atlas_access-0.5.0-py3-none-any.whl size=21655 sha256=c1d53fc7f6d3ae34d64c2b7c8cfb7e992225a025cdf29ad2b25315524b517aba\n",
      "  Stored in directory: /tmp/pip-ephem-wheel-cache-oj8bq8ed/wheels/2d/d9/f3/f2db0241b1dee95bfc46efed11e346b267a4dade369a8acc83\n",
      "Successfully built abc_atlas_access\n",
      "Installing collected packages: simpleitk, pydantic-core, jmespath, annotated-types, pydantic, botocore, s3transfer, boto3, abc_atlas_access\n",
      "Successfully installed abc_atlas_access-0.5.0 annotated-types-0.7.0 boto3-1.37.7 botocore-1.37.7 jmespath-1.0.1 pydantic-2.10.6 pydantic-core-2.27.2 s3transfer-0.11.4 simpleitk-2.4.1\n",
      "\u001b[33mWARNING: Running pip as the 'root' user can result in broken permissions and conflicting behaviour with the system package manager, possibly rendering your system unusable.It is recommended to use a virtual environment instead: https://pip.pypa.io/warnings/venv. Use the --root-user-action option if you know what you are doing and want to suppress this warning.\u001b[0m\u001b[33m\n",
      "\u001b[0mNote: you may need to restart the kernel to use updated packages.\n"
     ]
    }
   ],
   "source": [
    "pip install \"abc_atlas_access[notebooks] @ git+https://github.com/alleninstitute/abc_atlas_access.git\""
   ]
  },
  {
   "cell_type": "code",
   "execution_count": 2,
   "metadata": {},
   "outputs": [],
   "source": [
    "from pathlib import Path\n",
    "from abc_atlas_access.abc_atlas_cache.abc_project_cache import AbcProjectCache"
   ]
  },
  {
   "cell_type": "code",
   "execution_count": 3,
   "metadata": {},
   "outputs": [],
   "source": [
    "download_base = Path('./data/abc_atlas')\n",
    "abc_cache = AbcProjectCache.from_cache_dir(download_base)"
   ]
  },
  {
   "cell_type": "code",
   "execution_count": 6,
   "metadata": {},
   "outputs": [
    {
     "name": "stderr",
     "output_type": "stream",
     "text": [
      "annotation_10.nii.gz: 100%|██████████| 27.5M/27.5M [00:02<00:00, 11.4MMB/s]  \n",
      "annotation_boundary_10.nii.gz: 100%|██████████| 27.4M/27.4M [00:02<00:00, 12.7MMB/s]  \n",
      "average_template_10.nii.gz: 100%|██████████| 343M/343M [00:09<00:00, 37.6MMB/s]    \n"
     ]
    }
   ],
   "source": [
    "allen_ccf_list = abc_cache.get_directory_data('Allen-CCF-2020')"
   ]
  },
  {
   "cell_type": "code",
   "execution_count": 5,
   "metadata": {},
   "outputs": [
    {
     "name": "stderr",
     "output_type": "stream",
     "text": [
      "aging_degenes.csv: 100%|██████████| 1.13M/1.13M [00:00<00:00, 1.43MMB/s]\n",
      "cell_cross_mapping_annotations.csv: 100%|██████████| 126M/126M [00:04<00:00, 28.2MMB/s]    \n",
      "cluster_mapping.csv: 100%|██████████| 405k/405k [00:00<00:00, 652kMB/s]  \n",
      "cluster_mapping_pivot.csv: 100%|██████████| 118k/118k [00:00<00:00, 292kMB/s]  \n",
      "cell_cluster_annotations.csv: 100%|██████████| 160M/160M [00:05<00:00, 28.8MMB/s]    \n",
      "donor.csv: 100%|██████████| 8.65k/8.65k [00:00<00:00, 23.5kMB/s]\n",
      "example_genes_all_cells_expression.csv: 100%|██████████| 77.0M/77.0M [00:03<00:00, 25.2MMB/s]  \n",
      "library.csv: 100%|██████████| 36.1k/36.1k [00:00<00:00, 95.9kMB/s]\n",
      "value_sets.csv: 100%|██████████| 3.12k/3.12k [00:00<00:00, 9.73kMB/s]\n",
      "Zeng-Aging-Mouse-10Xv3-log2.h5ad: 100%|██████████| 13.3G/13.3G [07:12<00:00, 30.9MMB/s]     \n",
      "Zeng-Aging-Mouse-10Xv3-raw.h5ad: 100%|██████████| 13.8G/13.8G [06:58<00:00, 33.1MMB/s]     \n"
     ]
    },
    {
     "data": {
      "text/plain": [
       "PosixPath('/rna/sc-rna/scrna-analysis/data/abc_atlas/expression_matrices/Zeng-Aging-Mouse-10Xv3/20241130/Zeng-Aging-Mouse-10Xv3-raw.h5ad')"
      ]
     },
     "execution_count": 5,
     "metadata": {},
     "output_type": "execute_result"
    }
   ],
   "source": [
    "allen_ccf_list = abc_cache.get_directory_metadata('Zeng-Aging-Mouse-WMB-taxonomy')\n",
    "allen_ccf_list = abc_cache.get_directory_metadata('Zeng-Aging-Mouse-10Xv3')\n",
    "abc_cache.get_data_path(directory='Zeng-Aging-Mouse-10Xv3', file_name='Zeng-Aging-Mouse-10Xv3/log2')\n",
    "abc_cache.get_data_path(directory='Zeng-Aging-Mouse-10Xv3', file_name='Zeng-Aging-Mouse-10Xv3/raw')"
   ]
  }
 ],
 "metadata": {
  "kernelspec": {
   "display_name": "base",
   "language": "python",
   "name": "python3"
  },
  "language_info": {
   "codemirror_mode": {
    "name": "ipython",
    "version": 3
   },
   "file_extension": ".py",
   "mimetype": "text/x-python",
   "name": "python",
   "nbconvert_exporter": "python",
   "pygments_lexer": "ipython3",
   "version": "3.11.9"
  }
 },
 "nbformat": 4,
 "nbformat_minor": 2
}
